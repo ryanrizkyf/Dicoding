{
  "nbformat": 4,
  "nbformat_minor": 0,
  "metadata": {
    "colab": {
      "name": "mnist",
      "provenance": []
    },
    "kernelspec": {
      "name": "python3",
      "display_name": "Python 3"
    }
  },
  "cells": [
    {
      "cell_type": "code",
      "metadata": {
        "id": "aa4qJ4I55sMl",
        "colab_type": "code",
        "colab": {}
      },
      "source": [
        "import tensorflow as tf"
      ],
      "execution_count": null,
      "outputs": []
    },
    {
      "cell_type": "code",
      "metadata": {
        "id": "KLQ4OzMz5qnT",
        "colab_type": "code",
        "colab": {
          "base_uri": "https://localhost:8080/",
          "height": 869
        },
        "outputId": "52f5aed9-3e7f-4af2-f754-6cef9460d681"
      },
      "source": [
        "fashion_mnist = tf.keras.datasets.fashion_mnist\n",
        "(training_images, training_labels), (test_images, test_labels) = fashion_mnist.load_data()\n",
        "    # YOUR CODE STARTS HERE\n",
        "\n",
        "    \n",
        "training_images=training_images.reshape(60000, 28, 28, 1)\n",
        "training_images=training_images / 255.0\n",
        "test_images = test_images.reshape(10000, 28, 28, 1)\n",
        "test_images=test_images/255.0\n",
        "# YOUR CODE ENDS HERE\n",
        "\n",
        "model = tf.keras.models.Sequential([\n",
        "      # YOUR CODE STARTS HERE\n",
        "      tf.keras.layers.Conv2D(64, (3,3), activation='relu', input_shape=(28, 28, 1)),\n",
        "      tf.keras.layers.MaxPooling2D(2, 2),\n",
        "      tf.keras.layers.Conv2D(64, (3,3), activation='relu'),\n",
        "      tf.keras.layers.MaxPooling2D(2,2),\n",
        "      tf.keras.layers.Flatten(),\n",
        "      tf.keras.layers.Dense(128, activation='relu'),\n",
        "      tf.keras.layers.Dense(10, activation='softmax')\n",
        "            # YOUR CODE ENDS HERE\n",
        "    ])\n",
        "\n",
        "model.compile(optimizer='adam', loss='sparse_categorical_crossentropy', metrics=['accuracy'])\n",
        "    # model fitting\n",
        "history = model.fit(\n",
        "        # YOUR CODE STARTS HERE\n",
        "    training_images, training_labels, epochs=20\n",
        "        # YOUR CODE ENDS HERE\n",
        "    )\n",
        "    # model fitting\n"
      ],
      "execution_count": null,
      "outputs": [
        {
          "output_type": "stream",
          "text": [
            "Downloading data from https://storage.googleapis.com/tensorflow/tf-keras-datasets/train-labels-idx1-ubyte.gz\n",
            "32768/29515 [=================================] - 0s 0us/step\n",
            "Downloading data from https://storage.googleapis.com/tensorflow/tf-keras-datasets/train-images-idx3-ubyte.gz\n",
            "26427392/26421880 [==============================] - 0s 0us/step\n",
            "Downloading data from https://storage.googleapis.com/tensorflow/tf-keras-datasets/t10k-labels-idx1-ubyte.gz\n",
            "8192/5148 [===============================================] - 0s 0us/step\n",
            "Downloading data from https://storage.googleapis.com/tensorflow/tf-keras-datasets/t10k-images-idx3-ubyte.gz\n",
            "4423680/4422102 [==============================] - 0s 0us/step\n",
            "Epoch 1/20\n",
            "1875/1875 [==============================] - 79s 42ms/step - loss: 0.4329 - accuracy: 0.8430\n",
            "Epoch 2/20\n",
            "1875/1875 [==============================] - 79s 42ms/step - loss: 0.2928 - accuracy: 0.8935\n",
            "Epoch 3/20\n",
            "1875/1875 [==============================] - 79s 42ms/step - loss: 0.2472 - accuracy: 0.9079\n",
            "Epoch 4/20\n",
            "1875/1875 [==============================] - 80s 43ms/step - loss: 0.2134 - accuracy: 0.9197\n",
            "Epoch 5/20\n",
            "1875/1875 [==============================] - 80s 43ms/step - loss: 0.1877 - accuracy: 0.9292\n",
            "Epoch 6/20\n",
            "1875/1875 [==============================] - 80s 43ms/step - loss: 0.1636 - accuracy: 0.9390\n",
            "Epoch 7/20\n",
            "1875/1875 [==============================] - 79s 42ms/step - loss: 0.1446 - accuracy: 0.9453\n",
            "Epoch 8/20\n",
            "1875/1875 [==============================] - 80s 42ms/step - loss: 0.1266 - accuracy: 0.9521\n",
            "Epoch 9/20\n",
            "1875/1875 [==============================] - 80s 42ms/step - loss: 0.1087 - accuracy: 0.9592\n",
            "Epoch 10/20\n",
            "1875/1875 [==============================] - 80s 42ms/step - loss: 0.0971 - accuracy: 0.9627\n",
            "Epoch 11/20\n",
            "1875/1875 [==============================] - 79s 42ms/step - loss: 0.0839 - accuracy: 0.9694\n",
            "Epoch 12/20\n",
            "1875/1875 [==============================] - 79s 42ms/step - loss: 0.0753 - accuracy: 0.9717\n",
            "Epoch 13/20\n",
            "1875/1875 [==============================] - 79s 42ms/step - loss: 0.0663 - accuracy: 0.9749\n",
            "Epoch 14/20\n",
            "1875/1875 [==============================] - 79s 42ms/step - loss: 0.0591 - accuracy: 0.9773\n",
            "Epoch 15/20\n",
            "1875/1875 [==============================] - 79s 42ms/step - loss: 0.0510 - accuracy: 0.9804\n",
            "Epoch 16/20\n",
            "1875/1875 [==============================] - 79s 42ms/step - loss: 0.0492 - accuracy: 0.9819\n",
            "Epoch 17/20\n",
            "1875/1875 [==============================] - 79s 42ms/step - loss: 0.0456 - accuracy: 0.9829\n",
            "Epoch 18/20\n",
            "1875/1875 [==============================] - 78s 42ms/step - loss: 0.0389 - accuracy: 0.9860\n",
            "Epoch 19/20\n",
            "1875/1875 [==============================] - 78s 42ms/step - loss: 0.0375 - accuracy: 0.9856\n",
            "Epoch 20/20\n",
            "1875/1875 [==============================] - 79s 42ms/step - loss: 0.0369 - accuracy: 0.9862\n"
          ],
          "name": "stdout"
        }
      ]
    },
    {
      "cell_type": "markdown",
      "metadata": {
        "id": "Z2DcICwX56iP",
        "colab_type": "text"
      },
      "source": [
        "### Safe Model to TF Lite"
      ]
    },
    {
      "cell_type": "code",
      "metadata": {
        "id": "xLbo6M1755zQ",
        "colab_type": "code",
        "colab": {}
      },
      "source": [
        "# Convert the model.\n",
        "converter = tf.lite.TFLiteConverter.from_keras_model(model)\n",
        "tflite_model = converter.convert()\n",
        "\n",
        "# Save the TF Lite model.\n",
        "with tf.io.gfile.GFile('model.tflite', 'wb') as f:\n",
        "  f.write(tflite_model)"
      ],
      "execution_count": null,
      "outputs": []
    },
    {
      "cell_type": "code",
      "metadata": {
        "id": "ujkYrnbbhr84",
        "colab_type": "code",
        "colab": {
          "base_uri": "https://localhost:8080/",
          "height": 52
        },
        "outputId": "6d2adab6-7d20-44a2-b494-4311300b7a56"
      },
      "source": [
        "# Save the entire model to a HDF5 file.\n",
        "# The '.h5' extension indicates that the model should be saved to HDF5.\n",
        "model.save('my_model.pb') \n",
        "%cd"
      ],
      "execution_count": null,
      "outputs": [
        {
          "output_type": "stream",
          "text": [
            "INFO:tensorflow:Assets written to: my_model.pb/assets\n",
            "/root\n"
          ],
          "name": "stdout"
        }
      ]
    },
    {
      "cell_type": "code",
      "metadata": {
        "id": "PbSE0y3Vh-Rr",
        "colab_type": "code",
        "colab": {}
      },
      "source": [
        "import os\n",
        "import tarfile\n",
        "def tardir(path, tar_name):\n",
        "    with tarfile.open(tar_name, \"w:gz\") as tar_handle:\n",
        "        for root, dirs, files in os.walk(path):\n",
        "            for file in files:\n",
        "                tar_handle.add(os.path.join(root, file))\n",
        "tardir('root/my_model.pb', 'my_model.tar.gz')\n",
        "%cd\n",
        "\n",
        "# path = '/Some/path/to/Pics2'\n",
        "# filename = 'forcing{0}damping{1}omega{2}set2.png'.format(forcing, damping, omega)\n",
        "# filename = os.path.join(path, filename)\n",
        "# fig.savefig(filename)"
      ],
      "execution_count": null,
      "outputs": []
    },
    {
      "cell_type": "code",
      "metadata": {
        "id": "vCjIJPuTDbUJ",
        "colab_type": "code",
        "colab": {}
      },
      "source": [
        "from google.colab import drive\n",
        "drive.mount('/content/drive')"
      ],
      "execution_count": null,
      "outputs": []
    }
  ]
}
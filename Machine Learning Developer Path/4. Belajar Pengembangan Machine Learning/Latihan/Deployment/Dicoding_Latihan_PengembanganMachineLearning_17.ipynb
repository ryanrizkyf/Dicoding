{
  "nbformat": 4,
  "nbformat_minor": 0,
  "metadata": {
    "colab": {
      "name": "Dicoding-Latihan-PengembanganMachineLearning-17.ipynb",
      "provenance": []
    },
    "kernelspec": {
      "name": "python3",
      "display_name": "Python 3"
    },
    "language_info": {
      "name": "python"
    },
    "accelerator": "GPU"
  },
  "cells": [
    {
      "cell_type": "markdown",
      "metadata": {
        "id": "Web05DRn46jn"
      },
      "source": [
        "# Deployment"
      ]
    },
    {
      "cell_type": "markdown",
      "metadata": {
        "id": "mOq5S5j748tx"
      },
      "source": [
        "# Export Data to Training Pipelines"
      ]
    },
    {
      "cell_type": "code",
      "metadata": {
        "id": "yYto8PjI4xvm"
      },
      "source": [
        "import pandas as pd\n",
        "import numpy as np\n",
        "\n",
        "import tensorflow as tf\n",
        "\n",
        "from tensorflow import feature_column\n",
        "from tensorflow.keras import layers\n",
        "from sklearn.model_selection import train_test_split"
      ],
      "execution_count": 1,
      "outputs": []
    },
    {
      "cell_type": "code",
      "metadata": {
        "id": "TSuCathg59kp"
      },
      "source": [
        "df = pd.read_csv('/content/diamonds.csv')"
      ],
      "execution_count": 2,
      "outputs": []
    },
    {
      "cell_type": "code",
      "metadata": {
        "colab": {
          "base_uri": "https://localhost:8080/",
          "height": 221
        },
        "id": "L4vtqCJt7FRs",
        "outputId": "35351365-0e95-46f9-9177-5e6acfe65f8a"
      },
      "source": [
        "df.head()"
      ],
      "execution_count": 3,
      "outputs": [
        {
          "output_type": "execute_result",
          "data": {
            "text/html": [
              "<div>\n",
              "<style scoped>\n",
              "    .dataframe tbody tr th:only-of-type {\n",
              "        vertical-align: middle;\n",
              "    }\n",
              "\n",
              "    .dataframe tbody tr th {\n",
              "        vertical-align: top;\n",
              "    }\n",
              "\n",
              "    .dataframe thead th {\n",
              "        text-align: right;\n",
              "    }\n",
              "</style>\n",
              "<table border=\"1\" class=\"dataframe\">\n",
              "  <thead>\n",
              "    <tr style=\"text-align: right;\">\n",
              "      <th></th>\n",
              "      <th>Unnamed: 0</th>\n",
              "      <th>carat</th>\n",
              "      <th>cut</th>\n",
              "      <th>color</th>\n",
              "      <th>clarity</th>\n",
              "      <th>depth</th>\n",
              "      <th>table</th>\n",
              "      <th>price</th>\n",
              "      <th>x</th>\n",
              "      <th>y</th>\n",
              "      <th>z</th>\n",
              "    </tr>\n",
              "  </thead>\n",
              "  <tbody>\n",
              "    <tr>\n",
              "      <th>0</th>\n",
              "      <td>1</td>\n",
              "      <td>0.23</td>\n",
              "      <td>Ideal</td>\n",
              "      <td>E</td>\n",
              "      <td>SI2</td>\n",
              "      <td>61.5</td>\n",
              "      <td>55.0</td>\n",
              "      <td>326</td>\n",
              "      <td>3.95</td>\n",
              "      <td>3.98</td>\n",
              "      <td>2.43</td>\n",
              "    </tr>\n",
              "    <tr>\n",
              "      <th>1</th>\n",
              "      <td>2</td>\n",
              "      <td>0.21</td>\n",
              "      <td>Premium</td>\n",
              "      <td>E</td>\n",
              "      <td>SI1</td>\n",
              "      <td>59.8</td>\n",
              "      <td>61.0</td>\n",
              "      <td>326</td>\n",
              "      <td>3.89</td>\n",
              "      <td>3.84</td>\n",
              "      <td>2.31</td>\n",
              "    </tr>\n",
              "    <tr>\n",
              "      <th>2</th>\n",
              "      <td>3</td>\n",
              "      <td>0.23</td>\n",
              "      <td>Good</td>\n",
              "      <td>E</td>\n",
              "      <td>VS1</td>\n",
              "      <td>56.9</td>\n",
              "      <td>65.0</td>\n",
              "      <td>327</td>\n",
              "      <td>4.05</td>\n",
              "      <td>4.07</td>\n",
              "      <td>2.31</td>\n",
              "    </tr>\n",
              "    <tr>\n",
              "      <th>3</th>\n",
              "      <td>4</td>\n",
              "      <td>0.29</td>\n",
              "      <td>Premium</td>\n",
              "      <td>I</td>\n",
              "      <td>VS2</td>\n",
              "      <td>62.4</td>\n",
              "      <td>58.0</td>\n",
              "      <td>334</td>\n",
              "      <td>4.20</td>\n",
              "      <td>4.23</td>\n",
              "      <td>2.63</td>\n",
              "    </tr>\n",
              "    <tr>\n",
              "      <th>4</th>\n",
              "      <td>5</td>\n",
              "      <td>0.31</td>\n",
              "      <td>Good</td>\n",
              "      <td>J</td>\n",
              "      <td>SI2</td>\n",
              "      <td>63.3</td>\n",
              "      <td>58.0</td>\n",
              "      <td>335</td>\n",
              "      <td>4.34</td>\n",
              "      <td>4.35</td>\n",
              "      <td>2.75</td>\n",
              "    </tr>\n",
              "  </tbody>\n",
              "</table>\n",
              "</div>"
            ],
            "text/plain": [
              "   Unnamed: 0  carat      cut color clarity  ...  table  price     x     y     z\n",
              "0           1   0.23    Ideal     E     SI2  ...   55.0    326  3.95  3.98  2.43\n",
              "1           2   0.21  Premium     E     SI1  ...   61.0    326  3.89  3.84  2.31\n",
              "2           3   0.23     Good     E     VS1  ...   65.0    327  4.05  4.07  2.31\n",
              "3           4   0.29  Premium     I     VS2  ...   58.0    334  4.20  4.23  2.63\n",
              "4           5   0.31     Good     J     SI2  ...   58.0    335  4.34  4.35  2.75\n",
              "\n",
              "[5 rows x 11 columns]"
            ]
          },
          "metadata": {
            "tags": []
          },
          "execution_count": 3
        }
      ]
    },
    {
      "cell_type": "code",
      "metadata": {
        "colab": {
          "base_uri": "https://localhost:8080/"
        },
        "id": "7R3vGjBJ6HG2",
        "outputId": "670ee45d-ad92-46b5-c1ba-9d18ae44d2d1"
      },
      "source": [
        "# Split Dataset menjadi train, test, dan validation\n",
        "train, test = train_test_split(df, test_size=0.2)\n",
        "train, val = train_test_split(train, test_size=0.2)\n",
        "\n",
        "print(len(train), 'train examples')\n",
        "print(len(val), 'validation examples')\n",
        "print(len(test), 'test examples')"
      ],
      "execution_count": 4,
      "outputs": [
        {
          "output_type": "stream",
          "text": [
            "34521 train examples\n",
            "8631 validation examples\n",
            "10788 test examples\n"
          ],
          "name": "stdout"
        }
      ]
    },
    {
      "cell_type": "code",
      "metadata": {
        "id": "Kh_bmlaI65p5"
      },
      "source": [
        "# Membuat target dari prediksi model\n",
        "\n",
        "# price 0 = low; 1 = high\n",
        "df['target'] = np.where(df['price']==327, 0, 1)\n",
        "\n",
        "# Drop un-used columns.\n",
        "df = df.drop(columns=['price'])"
      ],
      "execution_count": 5,
      "outputs": []
    },
    {
      "cell_type": "code",
      "metadata": {
        "id": "ujZFRs8O6g7X"
      },
      "source": [
        "# Cara untuk membuat dataset tf.data dari pandas dataframe\n",
        "def df_to_dataset(dataframe, shuffle=True, batch_size=32):\n",
        "  dataframe = df.copy()\n",
        "  labels = dataframe.pop('target')\n",
        "  ds = tf.data.Dataset.from_tensor_slices((dict(dataframe), labels))\n",
        "  if shuffle:\n",
        "    ds = ds.shuffle(buffer_size=len(dataframe))\n",
        "  ds = ds.batch(batch_size)\n",
        "  return ds"
      ],
      "execution_count": 6,
      "outputs": []
    },
    {
      "cell_type": "code",
      "metadata": {
        "id": "eTaU0mGG7LPu"
      },
      "source": [
        "batch_size = 10 # batch ukuran kecil untuk demonstrasi\n",
        "train_ds = df_to_dataset(train, batch_size=batch_size)\n",
        "val_ds = df_to_dataset(val, shuffle=False, batch_size=batch_size)\n",
        "test_ds = df_to_dataset(test, shuffle=False, batch_size=batch_size)"
      ],
      "execution_count": 7,
      "outputs": []
    },
    {
      "cell_type": "code",
      "metadata": {
        "id": "AsqyjQyP774q"
      },
      "source": [
        "# We will use this batch to demonstrate several types of feature columns\n",
        "example_batch = next(iter(train_ds))[0]\n",
        "\n",
        "# A utility method to create a feature column\n",
        "# and to transform a batch of data\n",
        "def demo(feature_column):\n",
        "  feature_layer = layers.DenseFeatures(feature_column)\n",
        "  print(feature_layer(example_batch).numpy())"
      ],
      "execution_count": 8,
      "outputs": []
    },
    {
      "cell_type": "code",
      "metadata": {
        "colab": {
          "base_uri": "https://localhost:8080/"
        },
        "id": "WinMAcw978Uk",
        "outputId": "7b7fb398-5ce0-43f7-d709-2f8cc8711364"
      },
      "source": [
        "# numeric column\n",
        "carat = feature_column.numeric_column('carat')\n",
        "demo(carat)"
      ],
      "execution_count": 9,
      "outputs": [
        {
          "output_type": "stream",
          "text": [
            "[[1.53]\n",
            " [2.39]\n",
            " [0.55]\n",
            " [2.  ]\n",
            " [1.5 ]\n",
            " [0.4 ]\n",
            " [1.06]\n",
            " [0.4 ]\n",
            " [0.71]\n",
            " [1.5 ]]\n"
          ],
          "name": "stdout"
        }
      ]
    },
    {
      "cell_type": "code",
      "metadata": {
        "colab": {
          "base_uri": "https://localhost:8080/"
        },
        "id": "_qxEYGUE7_Gu",
        "outputId": "41fd7c46-fb20-4f78-ed6e-2b4339ceba8d"
      },
      "source": [
        "# bucketized column\n",
        "carat = feature_column.numeric_column('carat')\n",
        "carat_buckets = feature_column.bucketized_column(carat, boundaries=[1, 2])\n",
        "demo(carat_buckets)"
      ],
      "execution_count": 10,
      "outputs": [
        {
          "output_type": "stream",
          "text": [
            "[[0. 1. 0.]\n",
            " [0. 0. 1.]\n",
            " [1. 0. 0.]\n",
            " [0. 0. 1.]\n",
            " [0. 1. 0.]\n",
            " [1. 0. 0.]\n",
            " [0. 1. 0.]\n",
            " [1. 0. 0.]\n",
            " [1. 0. 0.]\n",
            " [0. 1. 0.]]\n"
          ],
          "name": "stdout"
        }
      ]
    },
    {
      "cell_type": "code",
      "metadata": {
        "colab": {
          "base_uri": "https://localhost:8080/"
        },
        "id": "OOVmlLf67_qY",
        "outputId": "a8d06416-766e-40b0-b878-29cda7d641a4"
      },
      "source": [
        "# categorical\n",
        "color_type = feature_column.categorical_column_with_vocabulary_list(\n",
        "      'color', ['E', 'I','J','D','H', 'G','F'])\n",
        " \n",
        "color_type_one_hot = feature_column.indicator_column(color_type)\n",
        "demo(color_type_one_hot)"
      ],
      "execution_count": 11,
      "outputs": [
        {
          "output_type": "stream",
          "text": [
            "[[0. 0. 0. 1. 0. 0. 0.]\n",
            " [0. 0. 1. 0. 0. 0. 0.]\n",
            " [1. 0. 0. 0. 0. 0. 0.]\n",
            " [0. 0. 0. 0. 1. 0. 0.]\n",
            " [0. 1. 0. 0. 0. 0. 0.]\n",
            " [0. 0. 0. 0. 0. 0. 1.]\n",
            " [0. 0. 0. 0. 0. 1. 0.]\n",
            " [0. 0. 0. 0. 0. 1. 0.]\n",
            " [0. 1. 0. 0. 0. 0. 0.]\n",
            " [0. 0. 0. 0. 1. 0. 0.]]\n"
          ],
          "name": "stdout"
        }
      ]
    },
    {
      "cell_type": "code",
      "metadata": {
        "id": "G1xyKVtt8SZB"
      },
      "source": [
        "# Pilih feature column mana yang akan digunakan\n",
        "feature_columns = []"
      ],
      "execution_count": 12,
      "outputs": []
    },
    {
      "cell_type": "code",
      "metadata": {
        "colab": {
          "base_uri": "https://localhost:8080/"
        },
        "id": "MtjLmKA48CH1",
        "outputId": "e20ad5b0-7cc5-45a9-d9bc-b8d7f346736a"
      },
      "source": [
        "# embedding\n",
        "clarity = feature_column.categorical_column_with_vocabulary_list(\n",
        "      'clarity', df.clarity.unique())\n",
        "clarity_embedding = feature_column.embedding_column(clarity, dimension=6)\n",
        "demo(clarity_embedding)"
      ],
      "execution_count": 13,
      "outputs": [
        {
          "output_type": "stream",
          "text": [
            "[[ 0.43725246  0.5589956  -0.08827138 -0.4275147  -0.04181847  0.2202511 ]\n",
            " [-0.6001344  -0.61763555 -0.15075025  0.3868759  -0.58214444 -0.017605  ]\n",
            " [-0.0151603   0.0718402  -0.41967463 -0.20125318  0.19511366 -0.7458131 ]\n",
            " [-0.27077296 -0.4337373   0.35020268  0.2772842   0.57942647  0.40740412]\n",
            " [-0.27077296 -0.4337373   0.35020268  0.2772842   0.57942647  0.40740412]\n",
            " [-0.6001344  -0.61763555 -0.15075025  0.3868759  -0.58214444 -0.017605  ]\n",
            " [-0.0151603   0.0718402  -0.41967463 -0.20125318  0.19511366 -0.7458131 ]\n",
            " [-0.10820406  0.12765808 -0.08518174  0.27871144 -0.43099025 -0.32373244]\n",
            " [-0.27077296 -0.4337373   0.35020268  0.2772842   0.57942647  0.40740412]\n",
            " [-0.27077296 -0.4337373   0.35020268  0.2772842   0.57942647  0.40740412]]\n"
          ],
          "name": "stdout"
        }
      ]
    },
    {
      "cell_type": "code",
      "metadata": {
        "colab": {
          "base_uri": "https://localhost:8080/"
        },
        "id": "bZ7Tjnxp8EoL",
        "outputId": "76d2beda-c9bb-4252-d5db-e7473973e9eb"
      },
      "source": [
        "# hashed feature\n",
        "clarity_hashed = feature_column.categorical_column_with_hash_bucket(\n",
        "      'clarity', hash_bucket_size=5)\n",
        "demo(feature_column.indicator_column(clarity_hashed))"
      ],
      "execution_count": 14,
      "outputs": [
        {
          "output_type": "stream",
          "text": [
            "[[0. 0. 0. 1. 0.]\n",
            " [0. 0. 0. 0. 1.]\n",
            " [1. 0. 0. 0. 0.]\n",
            " [0. 0. 0. 1. 0.]\n",
            " [0. 0. 0. 1. 0.]\n",
            " [0. 0. 0. 0. 1.]\n",
            " [1. 0. 0. 0. 0.]\n",
            " [0. 0. 0. 0. 1.]\n",
            " [0. 0. 0. 1. 0.]\n",
            " [0. 0. 0. 1. 0.]]\n"
          ],
          "name": "stdout"
        }
      ]
    },
    {
      "cell_type": "code",
      "metadata": {
        "colab": {
          "base_uri": "https://localhost:8080/"
        },
        "id": "UnDsfbx18Gox",
        "outputId": "9413baeb-1f92-42ca-ed92-0766dfcdfe5a"
      },
      "source": [
        "# cross feature\n",
        "# data yang di cross harus berupa string, categorical, atau bucketized\n",
        "crossed_feature = feature_column.crossed_column([carat_buckets, color_type],\n",
        "                                                hash_bucket_size=10)\n",
        "demo(feature_column.indicator_column(crossed_feature))"
      ],
      "execution_count": 15,
      "outputs": [
        {
          "output_type": "stream",
          "text": [
            "[[0. 1. 0. 0. 0. 0. 0. 0. 0. 0.]\n",
            " [0. 1. 0. 0. 0. 0. 0. 0. 0. 0.]\n",
            " [0. 0. 0. 0. 1. 0. 0. 0. 0. 0.]\n",
            " [0. 0. 0. 0. 0. 0. 0. 1. 0. 0.]\n",
            " [0. 1. 0. 0. 0. 0. 0. 0. 0. 0.]\n",
            " [0. 0. 0. 0. 0. 0. 0. 0. 1. 0.]\n",
            " [0. 0. 0. 1. 0. 0. 0. 0. 0. 0.]\n",
            " [0. 0. 0. 0. 0. 0. 0. 0. 1. 0.]\n",
            " [0. 0. 0. 1. 0. 0. 0. 0. 0. 0.]\n",
            " [0. 0. 0. 0. 0. 1. 0. 0. 0. 0.]]\n"
          ],
          "name": "stdout"
        }
      ]
    },
    {
      "cell_type": "code",
      "metadata": {
        "id": "PsnduTf48ZY-"
      },
      "source": [
        "# numeric column\n",
        "for header in ['carat', 'depth', 'x', 'y', 'z']:\n",
        "  feature_columns.append(feature_column.numeric_column(header))"
      ],
      "execution_count": 16,
      "outputs": []
    },
    {
      "cell_type": "code",
      "metadata": {
        "id": "puv6_7qP8Z2g"
      },
      "source": [
        "# membuat feature layer\n",
        "feature_layer = tf.keras.layers.DenseFeatures(feature_columns)\n",
        "batch_size = 32\n",
        "train_ds = df_to_dataset(train, batch_size=batch_size)\n",
        "val_ds = df_to_dataset(val, shuffle=False, batch_size=batch_size)\n",
        "test_ds = df_to_dataset(test, shuffle=False, batch_size=batch_size)"
      ],
      "execution_count": 17,
      "outputs": []
    },
    {
      "cell_type": "code",
      "metadata": {
        "colab": {
          "base_uri": "https://localhost:8080/"
        },
        "id": "mRMUOhPi8f3g",
        "outputId": "9b5ef7b2-b906-40ae-decb-3b95f95e4e16"
      },
      "source": [
        "# create, compile, and train the model\n",
        "model = tf.keras.Sequential([\n",
        "  feature_layer,\n",
        "  layers.Dense(128, activation='relu'),\n",
        "  layers.Dense(128, activation='relu'),\n",
        "  layers.Dropout(.1),\n",
        "  layers.Dense(1)\n",
        "])\n",
        " \n",
        "model.compile(optimizer='adam',\n",
        "              loss=tf.keras.losses.BinaryCrossentropy(from_logits=True),\n",
        "              metrics=['accuracy'])\n",
        " \n",
        "model.fit(train_ds,\n",
        "          validation_data=val_ds,\n",
        "          epochs=10)"
      ],
      "execution_count": 18,
      "outputs": [
        {
          "output_type": "stream",
          "text": [
            "Epoch 1/10\n",
            "WARNING:tensorflow:Layers in a Sequential model should only have a single input tensor, but we receive a <class 'dict'> input: {'Unnamed: 0': <tf.Tensor 'ExpandDims:0' shape=(None, 1) dtype=int64>, 'carat': <tf.Tensor 'ExpandDims_1:0' shape=(None, 1) dtype=float64>, 'cut': <tf.Tensor 'ExpandDims_4:0' shape=(None, 1) dtype=string>, 'color': <tf.Tensor 'ExpandDims_3:0' shape=(None, 1) dtype=string>, 'clarity': <tf.Tensor 'ExpandDims_2:0' shape=(None, 1) dtype=string>, 'depth': <tf.Tensor 'ExpandDims_5:0' shape=(None, 1) dtype=float64>, 'table': <tf.Tensor 'ExpandDims_6:0' shape=(None, 1) dtype=float64>, 'x': <tf.Tensor 'ExpandDims_7:0' shape=(None, 1) dtype=float64>, 'y': <tf.Tensor 'ExpandDims_8:0' shape=(None, 1) dtype=float64>, 'z': <tf.Tensor 'ExpandDims_9:0' shape=(None, 1) dtype=float64>}\n",
            "Consider rewriting this model with the Functional API.\n",
            "WARNING:tensorflow:Layers in a Sequential model should only have a single input tensor, but we receive a <class 'dict'> input: {'Unnamed: 0': <tf.Tensor 'ExpandDims:0' shape=(None, 1) dtype=int64>, 'carat': <tf.Tensor 'ExpandDims_1:0' shape=(None, 1) dtype=float64>, 'cut': <tf.Tensor 'ExpandDims_4:0' shape=(None, 1) dtype=string>, 'color': <tf.Tensor 'ExpandDims_3:0' shape=(None, 1) dtype=string>, 'clarity': <tf.Tensor 'ExpandDims_2:0' shape=(None, 1) dtype=string>, 'depth': <tf.Tensor 'ExpandDims_5:0' shape=(None, 1) dtype=float64>, 'table': <tf.Tensor 'ExpandDims_6:0' shape=(None, 1) dtype=float64>, 'x': <tf.Tensor 'ExpandDims_7:0' shape=(None, 1) dtype=float64>, 'y': <tf.Tensor 'ExpandDims_8:0' shape=(None, 1) dtype=float64>, 'z': <tf.Tensor 'ExpandDims_9:0' shape=(None, 1) dtype=float64>}\n",
            "Consider rewriting this model with the Functional API.\n",
            "1685/1686 [============================>.] - ETA: 0s - loss: 4.0137e-04 - accuracy: 1.0000WARNING:tensorflow:Layers in a Sequential model should only have a single input tensor, but we receive a <class 'dict'> input: {'Unnamed: 0': <tf.Tensor 'ExpandDims:0' shape=(None, 1) dtype=int64>, 'carat': <tf.Tensor 'ExpandDims_1:0' shape=(None, 1) dtype=float64>, 'cut': <tf.Tensor 'ExpandDims_4:0' shape=(None, 1) dtype=string>, 'color': <tf.Tensor 'ExpandDims_3:0' shape=(None, 1) dtype=string>, 'clarity': <tf.Tensor 'ExpandDims_2:0' shape=(None, 1) dtype=string>, 'depth': <tf.Tensor 'ExpandDims_5:0' shape=(None, 1) dtype=float64>, 'table': <tf.Tensor 'ExpandDims_6:0' shape=(None, 1) dtype=float64>, 'x': <tf.Tensor 'ExpandDims_7:0' shape=(None, 1) dtype=float64>, 'y': <tf.Tensor 'ExpandDims_8:0' shape=(None, 1) dtype=float64>, 'z': <tf.Tensor 'ExpandDims_9:0' shape=(None, 1) dtype=float64>}\n",
            "Consider rewriting this model with the Functional API.\n",
            "1686/1686 [==============================] - 10s 4ms/step - loss: 4.0122e-04 - accuracy: 1.0000 - val_loss: 5.2973e-04 - val_accuracy: 1.0000\n",
            "Epoch 2/10\n",
            "1686/1686 [==============================] - 7s 4ms/step - loss: 3.8412e-04 - accuracy: 1.0000 - val_loss: 4.9563e-04 - val_accuracy: 1.0000\n",
            "Epoch 3/10\n",
            "1686/1686 [==============================] - 7s 4ms/step - loss: 5.4634e-04 - accuracy: 1.0000 - val_loss: 4.1397e-04 - val_accuracy: 1.0000\n",
            "Epoch 4/10\n",
            "1686/1686 [==============================] - 7s 4ms/step - loss: 3.7558e-04 - accuracy: 1.0000 - val_loss: 3.5954e-04 - val_accuracy: 1.0000\n",
            "Epoch 5/10\n",
            "1686/1686 [==============================] - 7s 4ms/step - loss: 2.3071e-04 - accuracy: 1.0000 - val_loss: 5.3807e-04 - val_accuracy: 1.0000\n",
            "Epoch 6/10\n",
            "1686/1686 [==============================] - 7s 4ms/step - loss: 6.2775e-04 - accuracy: 1.0000 - val_loss: 4.2238e-04 - val_accuracy: 1.0000\n",
            "Epoch 7/10\n",
            "1686/1686 [==============================] - 7s 4ms/step - loss: 4.2537e-04 - accuracy: 1.0000 - val_loss: 3.7629e-04 - val_accuracy: 1.0000\n",
            "Epoch 8/10\n",
            "1686/1686 [==============================] - 7s 4ms/step - loss: 4.4698e-04 - accuracy: 1.0000 - val_loss: 3.0663e-04 - val_accuracy: 1.0000\n",
            "Epoch 9/10\n",
            "1686/1686 [==============================] - 7s 4ms/step - loss: 3.1591e-04 - accuracy: 1.0000 - val_loss: 3.5903e-04 - val_accuracy: 1.0000\n",
            "Epoch 10/10\n",
            "1686/1686 [==============================] - 7s 4ms/step - loss: 3.7480e-04 - accuracy: 1.0000 - val_loss: 3.0739e-04 - val_accuracy: 1.0000\n"
          ],
          "name": "stdout"
        },
        {
          "output_type": "execute_result",
          "data": {
            "text/plain": [
              "<tensorflow.python.keras.callbacks.History at 0x7fe71bc5aa10>"
            ]
          },
          "metadata": {
            "tags": []
          },
          "execution_count": 18
        }
      ]
    },
    {
      "cell_type": "code",
      "metadata": {
        "id": "FQhMpGnI878a",
        "outputId": "75cd4dc5-5f5d-4ca3-aa29-d9964ca31bb1",
        "colab": {
          "base_uri": "https://localhost:8080/"
        }
      },
      "source": [
        "loss, accuracy = model.evaluate(test_ds)\n",
        "print(\"Accuracy\", accuracy)"
      ],
      "execution_count": 19,
      "outputs": [
        {
          "output_type": "stream",
          "text": [
            "1686/1686 [==============================] - 3s 2ms/step - loss: 3.0739e-04 - accuracy: 1.0000\n",
            "Accuracy 0.9999814629554749\n"
          ],
          "name": "stdout"
        }
      ]
    }
  ]
}
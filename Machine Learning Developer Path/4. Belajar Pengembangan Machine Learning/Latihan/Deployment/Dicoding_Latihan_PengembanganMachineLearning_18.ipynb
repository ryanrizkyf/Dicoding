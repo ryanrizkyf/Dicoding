{
  "nbformat": 4,
  "nbformat_minor": 0,
  "metadata": {
    "colab": {
      "name": "Dicoding-Latihan-PengembanganMachineLearning-18.ipynb",
      "provenance": []
    },
    "kernelspec": {
      "name": "python3",
      "display_name": "Python 3"
    },
    "language_info": {
      "name": "python"
    }
  },
  "cells": [
    {
      "cell_type": "markdown",
      "metadata": {
        "id": "PtzioZk8-4hK"
      },
      "source": [
        "# Deployment"
      ]
    },
    {
      "cell_type": "markdown",
      "metadata": {
        "id": "i0ktVHs2-5gb"
      },
      "source": [
        "# Pengenalan TensorBoard"
      ]
    },
    {
      "cell_type": "code",
      "metadata": {
        "id": "kSxAsBqb-teX"
      },
      "source": [
        "# %load_ext tensorboard"
      ],
      "execution_count": 1,
      "outputs": []
    },
    {
      "cell_type": "code",
      "metadata": {
        "id": "I99y5Uo3_FP_"
      },
      "source": [
        "# import datetime\n",
        "\n",
        "# log_dir = \"logs/fit/\" + datetime.datetime.now().strftime(\"%Y%m%d-%H%M%S\")"
      ],
      "execution_count": 2,
      "outputs": []
    },
    {
      "cell_type": "code",
      "metadata": {
        "id": "JgX8Z3KY_MEH"
      },
      "source": [
        "# import tensorflow as tf\n",
        "\n",
        "# file_writer = tf.summary.FileWriter('/path/to/logs', sess.graph)"
      ],
      "execution_count": 3,
      "outputs": []
    },
    {
      "cell_type": "code",
      "metadata": {
        "id": "bFt1oXNfAHNF"
      },
      "source": [
        "# Sisipkan callbacks tf.keras.callbacks.TensorBoard() pada kode model.fit(). \n",
        "# Ketika training, kode ini nantinya menghasilkan log training pada sebuah folder\n",
        "\n",
        "# tensorboard_callback = tf.keras.callbacks.TensorBoard(log_dir=log_dir, histogram_freq=1)"
      ],
      "execution_count": 4,
      "outputs": []
    },
    {
      "cell_type": "code",
      "metadata": {
        "id": "W9mrrGfdAIdC"
      },
      "source": [
        "# kemudian panggil callbacks\n",
        "\n",
        "# model.fit(x_train, y_train, epochs = 10, \n",
        "#    validation_data=(x_test, y_test), \n",
        "#    callbacks=[tensorboard_callback])"
      ],
      "execution_count": 5,
      "outputs": []
    },
    {
      "cell_type": "code",
      "metadata": {
        "id": "CkI7YtSqAN7T"
      },
      "source": [
        "# Jalankan kode berikut unutk menampilkan TensorBoard in-line\n",
        "# %tensorboard --logdir logs/fit"
      ],
      "execution_count": 6,
      "outputs": []
    },
    {
      "cell_type": "code",
      "metadata": {
        "id": "1uR_2mTeAn7v"
      },
      "source": [
        "# TensorBoard.dev\n",
        "\n",
        "# !tensorboard dev upload --logdir logs/fit"
      ],
      "execution_count": 7,
      "outputs": []
    },
    {
      "cell_type": "code",
      "metadata": {
        "id": "corh8nBVAysC"
      },
      "source": [
        "# Menampilkan Gambar\n",
        "\n",
        "# import numpy as np\n",
        "# log_dir = \"logs/fit/\" + datetime.datetime.now().strftime(\"%Y%m%d-%H%M%S\")\n",
        " \n",
        "# file_writer = tf.summary.create_file_writer(log_dir)\n",
        "# with file_writer.as_default():\n",
        "#     img = np.reshape(x_train[0], (-1, 28, 28, 1))\n",
        "#     tf.summary.image('Training Data ', img, step = 0)\n",
        "\n",
        "# %tensorboard --logdir logs/fit"
      ],
      "execution_count": 8,
      "outputs": []
    },
    {
      "cell_type": "code",
      "metadata": {
        "id": "8SY82A6dA5xz"
      },
      "source": [
        "# Menampilkan Banyak Gambar Sekaligus\n",
        "\n",
        "# import numpy as np\n",
        "# log_dir = \"logs/fit/\" + datetime.datetime.now().strftime(\"%Y%m%d-%H%M%S\")\n",
        " \n",
        "# file_writer = tf.summary.create_file_writer(log_dir)\n",
        "# with file_writer.as_default():\n",
        "#   imgs = np.reshape(x_train[0:4], (-1, 28, 28, 1))\n",
        "#  tf.summary.image('4 Training Data ', imgs, max_outputs = 4, step = 0)\n",
        " \n",
        "# %tensorboard --logdir logs/fit"
      ],
      "execution_count": 9,
      "outputs": []
    },
    {
      "cell_type": "code",
      "metadata": {
        "id": "hDGyG6wEBDIC"
      },
      "source": [
        "# Menampilkan Gambar yang didapat dari sebuah Plot\n",
        "\n",
        "# import io\n",
        "# import matplotlib.pyplot as plt\n",
        " \n",
        "# def plot_to_image(figure):\n",
        "#  \"\"\"Ubah the matplotlib plot 'figure' ke PNG image\"\"\"\n",
        "  # Simpan plot ke PNG di memori\n",
        "#  buf = io.BytesIO()\n",
        "#  plt.savefig(buf, format='png')\n",
        "  # Tutup the figure untuk mencegah figure ditampilkan langsung di Notebook\n",
        "#  plt.close(figure)\n",
        "#  buf.seek(0)\n",
        "  # Ubh PNG buffer ke TF image\n",
        "#  image = tf.image.decode_png(buf.getvalue(), channels=4)\n",
        "  # Tambah dimensi\n",
        "#  image = tf.expand_dims(image, 0)\n",
        "#  return image"
      ],
      "execution_count": 10,
      "outputs": []
    },
    {
      "cell_type": "code",
      "metadata": {
        "id": "p0C8idAlBMdy"
      },
      "source": [
        "# Menampilkan Gambar dalam bentuk Grid\n",
        "\n",
        "# import matplotlib.pyplot as plt\n",
        "# import datetime\n",
        " \n",
        "# !rm -rf logs/plots\n",
        " \n",
        "# logdir = \"logs/plots/\" + datetime.datetime.now().strftime(\"%Y%m%d-%H%M%S\")\n",
        "# file_writer = tf.summary.create_file_writer(logdir)\n",
        " \n",
        "# def image_grid():\n",
        "#  \"\"\"Return a 5x5 grid of the MNIST images as a matplotlib figure.\"\"\"\n",
        "  # Create a figure to contain the plot.\n",
        "#  figure = plt.figure(figsize=(10,10))\n",
        "#  for i in range(25):\n",
        "    # Start next subplot.\n",
        "#    plt.subplot(5, 5, i + 1, title=class_names[y_train[i]])\n",
        "#    plt.xticks([])\n",
        "#    plt.yticks([])\n",
        "#    plt.grid(False)\n",
        "#    plt.imshow(x_train[i], cmap=plt.cm.binary)\n",
        "  \n",
        "#  return figure\n",
        " \n",
        "# Prepare the plot\n",
        "# figure = image_grid()\n",
        "# Convert to image and log\n",
        "# with file_writer.as_default():\n",
        "#  tf.summary.image(\"Training data\", plot_to_image(figure), step=0)\n",
        " \n",
        "# %tensorboard --logdir logs/plots"
      ],
      "execution_count": 11,
      "outputs": []
    },
    {
      "cell_type": "code",
      "metadata": {
        "id": "fimBwaziBmzp"
      },
      "source": [
        "# Membuat Plot Confusion Matrix\n",
        "\n",
        "# def plot_confusion_matrix(cm, class_names):\n",
        " \n",
        " \n",
        "#  \"\"\" Mengembalikan matplotlib figure yang berisi the plot confusion matrix  \"\"\"\n",
        " \n",
        " \n",
        "#  figure = plt.figure(figsize=(8, 8))\n",
        "#  plt.imshow(cm, interpolation='nearest', cmap=plt.cm.Blues)\n",
        "#  plt.title(\"Confusion matrix\")\n",
        "#  plt.colorbar()\n",
        "#  tick_marks = np.arange(len(class_names))\n",
        "#  plt.xticks(tick_marks, class_names, rotation=45)\n",
        "#  plt.yticks(tick_marks, class_names)\n",
        " \n",
        " \n",
        "  # Normalisasi confusion matrix.\n",
        "#  cm = np.around(cm.astype('float') / cm.sum(axis=1)[:, np.newaxis], decimals=2)\n",
        " \n",
        " \n",
        "  # Setting teks\n",
        "#  threshold = cm.max() / 2.\n",
        "#  for i, j in itertools.product(range(cm.shape[0]), range(cm.shape[1])):\n",
        "#    color = \"white\" if cm[i, j] > threshold else \"black\"\n",
        "#    plt.text(j, i, cm[i, j], horizontalalignment=\"center\", color=color)\n",
        " \n",
        " \n",
        "#  plt.tight_layout()\n",
        "#  plt.ylabel('True label')\n",
        "#  plt.xlabel('Predicted label')\n",
        "#  return figure"
      ],
      "execution_count": 12,
      "outputs": []
    },
    {
      "cell_type": "code",
      "metadata": {
        "id": "-y_iGZsAB0fn"
      },
      "source": [
        "# Log Matrix pada setiap Epoch untuk Generate Confusion Matrix\n",
        "\n",
        "# import sklearn.metrics\n",
        "# import itertools\n",
        " \n",
        "# def log_confusion_matrix(epoch, logs):\n",
        "  # Gunakan model untuk memprediksi nilai dari data validasi\n",
        "#  test_pred_raw = model.predict(x_test)\n",
        "#  test_pred = np.argmax(test_pred_raw, axis=1)\n",
        " \n",
        "  # Hitung confusion matrix.\n",
        "#  cm = sklearn.metrics.confusion_matrix(y_test, test_pred)\n",
        "  \n",
        "#  figure = plot_confusion_matrix(cm, class_names=class_names)\n",
        "#  cm_image = plot_to_image(figure)\n",
        " \n",
        "  # Log confusion matrix sebagai image summary.\n",
        "#  with file_writer_cm.as_default():\n",
        "#    tf.summary.image(\"Confusion Matrix\", cm_image, step=epoch)\n",
        " \n",
        "# Definisikan epoch setiap callback\n",
        "# cm_callback = tf.keras.callbacks.LambdaCallback(on_epoch_end=log_confusion_matrix)"
      ],
      "execution_count": 13,
      "outputs": []
    },
    {
      "cell_type": "code",
      "metadata": {
        "id": "kKzbK8L9CCb2"
      },
      "source": [
        "# Pemanggilan Multiple Callbacks pada fungsi log_confusion_matrix\n",
        "\n",
        "# import datetime\n",
        " \n",
        "# logdir = \"logs/image/\" + datetime.datetime.now().strftime(\"%Y%m%d-%H%M%S\")\n",
        "# Definisikan callback.\n",
        "# tensorboard_callback = tf.keras.callbacks.TensorBoard(log_dir=logdir)\n",
        "# file_writer_cm = tf.summary.create_file_writer(logdir + '/cm')\n",
        " \n",
        " \n",
        "# Start TensorBoard.\n",
        "# %tensorboard --logdir logs/image\n",
        " \n",
        "# Train the classifier.\n",
        "# model.fit(\n",
        "#    x_train, y_train, epochs=5,\n",
        "#    callbacks=[tensorboard_callback, cm_callback],\n",
        "#    validation_data=(x_test, y_test),\n",
        "# )"
      ],
      "execution_count": 14,
      "outputs": []
    }
  ]
}
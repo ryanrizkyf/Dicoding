{
  "nbformat": 4,
  "nbformat_minor": 0,
  "metadata": {
    "colab": {
      "name": "Dicoding-Latihan-PengembanganMachineLearning-13.ipynb",
      "provenance": []
    },
    "kernelspec": {
      "name": "python3",
      "display_name": "Python 3"
    },
    "language_info": {
      "name": "python"
    },
    "accelerator": "GPU"
  },
  "cells": [
    {
      "cell_type": "markdown",
      "metadata": {
        "id": "NqlSSlEuTo7z"
      },
      "source": [
        "# Time Series"
      ]
    },
    {
      "cell_type": "markdown",
      "metadata": {
        "id": "exkchg8TTr8i"
      },
      "source": [
        "# Time Series Practice with LSTM"
      ]
    },
    {
      "cell_type": "code",
      "metadata": {
        "id": "aO4KKf4AS-9A"
      },
      "source": [
        "import numpy as np\n",
        "import pandas as pd\n",
        "import tensorflow as tf\n",
        "import matplotlib.pyplot as plt\n",
        "from keras.layers import Dense, LSTM"
      ],
      "execution_count": 1,
      "outputs": []
    },
    {
      "cell_type": "code",
      "metadata": {
        "colab": {
          "base_uri": "https://localhost:8080/",
          "height": 204
        },
        "id": "nDBBVAr2Uexu",
        "outputId": "3a6fb448-5f5f-4807-94de-283be1089dcf"
      },
      "source": [
        "data_train = pd.read_csv('/content/DailyDelhiClimateTrain.csv')\n",
        "data_train.head()"
      ],
      "execution_count": 2,
      "outputs": [
        {
          "output_type": "execute_result",
          "data": {
            "text/html": [
              "<div>\n",
              "<style scoped>\n",
              "    .dataframe tbody tr th:only-of-type {\n",
              "        vertical-align: middle;\n",
              "    }\n",
              "\n",
              "    .dataframe tbody tr th {\n",
              "        vertical-align: top;\n",
              "    }\n",
              "\n",
              "    .dataframe thead th {\n",
              "        text-align: right;\n",
              "    }\n",
              "</style>\n",
              "<table border=\"1\" class=\"dataframe\">\n",
              "  <thead>\n",
              "    <tr style=\"text-align: right;\">\n",
              "      <th></th>\n",
              "      <th>date</th>\n",
              "      <th>meantemp</th>\n",
              "      <th>humidity</th>\n",
              "      <th>wind_speed</th>\n",
              "      <th>meanpressure</th>\n",
              "    </tr>\n",
              "  </thead>\n",
              "  <tbody>\n",
              "    <tr>\n",
              "      <th>0</th>\n",
              "      <td>2013-01-01</td>\n",
              "      <td>10.000000</td>\n",
              "      <td>84.500000</td>\n",
              "      <td>0.000000</td>\n",
              "      <td>1015.666667</td>\n",
              "    </tr>\n",
              "    <tr>\n",
              "      <th>1</th>\n",
              "      <td>2013-01-02</td>\n",
              "      <td>7.400000</td>\n",
              "      <td>92.000000</td>\n",
              "      <td>2.980000</td>\n",
              "      <td>1017.800000</td>\n",
              "    </tr>\n",
              "    <tr>\n",
              "      <th>2</th>\n",
              "      <td>2013-01-03</td>\n",
              "      <td>7.166667</td>\n",
              "      <td>87.000000</td>\n",
              "      <td>4.633333</td>\n",
              "      <td>1018.666667</td>\n",
              "    </tr>\n",
              "    <tr>\n",
              "      <th>3</th>\n",
              "      <td>2013-01-04</td>\n",
              "      <td>8.666667</td>\n",
              "      <td>71.333333</td>\n",
              "      <td>1.233333</td>\n",
              "      <td>1017.166667</td>\n",
              "    </tr>\n",
              "    <tr>\n",
              "      <th>4</th>\n",
              "      <td>2013-01-05</td>\n",
              "      <td>6.000000</td>\n",
              "      <td>86.833333</td>\n",
              "      <td>3.700000</td>\n",
              "      <td>1016.500000</td>\n",
              "    </tr>\n",
              "  </tbody>\n",
              "</table>\n",
              "</div>"
            ],
            "text/plain": [
              "         date   meantemp   humidity  wind_speed  meanpressure\n",
              "0  2013-01-01  10.000000  84.500000    0.000000   1015.666667\n",
              "1  2013-01-02   7.400000  92.000000    2.980000   1017.800000\n",
              "2  2013-01-03   7.166667  87.000000    4.633333   1018.666667\n",
              "3  2013-01-04   8.666667  71.333333    1.233333   1017.166667\n",
              "4  2013-01-05   6.000000  86.833333    3.700000   1016.500000"
            ]
          },
          "metadata": {
            "tags": []
          },
          "execution_count": 2
        }
      ]
    },
    {
      "cell_type": "code",
      "metadata": {
        "colab": {
          "base_uri": "https://localhost:8080/"
        },
        "id": "HOR3FD-MUzqZ",
        "outputId": "67104af2-2344-4f4c-e6b6-c395992a091b"
      },
      "source": [
        "data_train.isnull().sum()"
      ],
      "execution_count": 3,
      "outputs": [
        {
          "output_type": "execute_result",
          "data": {
            "text/plain": [
              "date            0\n",
              "meantemp        0\n",
              "humidity        0\n",
              "wind_speed      0\n",
              "meanpressure    0\n",
              "dtype: int64"
            ]
          },
          "metadata": {
            "tags": []
          },
          "execution_count": 3
        }
      ]
    },
    {
      "cell_type": "code",
      "metadata": {
        "colab": {
          "base_uri": "https://localhost:8080/",
          "height": 358
        },
        "id": "kJNGhRc1U4il",
        "outputId": "05e03b80-398a-4968-a336-2d8919a1a2d5"
      },
      "source": [
        "dates = data_train['date'].values\n",
        "temp = data_train['meantemp'].values\n",
        "\n",
        "plt.figure(figsize=(15, 5))\n",
        "plt.plot(dates, temp)\n",
        "plt.title('Temperature Average', fontsize=20)"
      ],
      "execution_count": 4,
      "outputs": [
        {
          "output_type": "execute_result",
          "data": {
            "text/plain": [
              "Text(0.5, 1.0, 'Temperature Average')"
            ]
          },
          "metadata": {
            "tags": []
          },
          "execution_count": 4
        },
        {
          "output_type": "display_data",
          "data": {
            "image/png": "[encoded data removed]",
            "text/plain": [
              "<Figure size 1080x360 with 1 Axes>"
            ]
          },
          "metadata": {
            "tags": [],
            "needs_background": "light"
          }
        }
      ]
    },
    {
      "cell_type": "code",
      "metadata": {
        "id": "blR-yKFLVhkg"
      },
      "source": [
        "def windowed_dataset(series, window_size, batch_size, shuffle_buffer):\n",
        "    series = tf.expand_dims(series, axis=1)\n",
        "    ds = tf.data.Dataset.from_tensor_slices(series)\n",
        "    ds = ds.window(window_size + 1, shift=1, drop_remainder=True)\n",
        "    ds = ds.flat_map(lambda w: w.batch(window_size + 1))\n",
        "    ds = ds.shuffle(shuffle_buffer)\n",
        "    ds = ds.map(lambda w: (w[:-1], w[-1:]))\n",
        "    return ds.batch(batch_size).prefetch(1)"
      ],
      "execution_count": 5,
      "outputs": []
    },
    {
      "cell_type": "code",
      "metadata": {
        "id": "-5AUJle8WYY-"
      },
      "source": [
        "train_set = windowed_dataset(temp, window_size=60, batch_size=100, shuffle_buffer=1000)\n",
        "\n",
        "model = tf.keras.models.Sequential([\n",
        "                                    tf.keras.layers.LSTM(60, return_sequences=True),\n",
        "                                    tf.keras.layers.LSTM(60),\n",
        "                                    tf.keras.layers.Dense(30, activation='relu'),\n",
        "                                    tf.keras.layers.Dense(10, activation='relu'),\n",
        "                                    tf.keras.layers.Dense(1),\n",
        "])"
      ],
      "execution_count": 6,
      "outputs": []
    },
    {
      "cell_type": "code",
      "metadata": {
        "colab": {
          "base_uri": "https://localhost:8080/"
        },
        "id": "R4_SYPf8W3iQ",
        "outputId": "1ab66bf1-86d5-46d5-f0bb-398dae41073b"
      },
      "source": [
        "optimizer = tf.keras.optimizers.SGD(learning_rate=1.0000e-04, momentum=0.9)\n",
        "\n",
        "model.compile(loss=tf.keras.losses.Huber(),\n",
        "              optimizer=optimizer,\n",
        "              metrics=['mae'])\n",
        "\n",
        "history = model.fit(train_set, epochs=100)"
      ],
      "execution_count": 7,
      "outputs": [
        {
          "output_type": "stream",
          "text": [
            "Epoch 1/100\n",
            "15/15 [==============================] - 9s 15ms/step - loss: 25.7294 - mae: 26.2294\n",
            "Epoch 2/100\n",
            "15/15 [==============================] - 0s 11ms/step - loss: 25.3619 - mae: 25.8619\n",
            "Epoch 3/100\n",
            "15/15 [==============================] - 0s 12ms/step - loss: 25.0852 - mae: 25.5852\n",
            "Epoch 4/100\n",
            "15/15 [==============================] - 0s 12ms/step - loss: 24.8536 - mae: 25.3536\n",
            "Epoch 5/100\n",
            "15/15 [==============================] - 0s 11ms/step - loss: 24.6321 - mae: 25.1321\n",
            "Epoch 6/100\n",
            "15/15 [==============================] - 0s 11ms/step - loss: 24.3989 - mae: 24.8989\n",
            "Epoch 7/100\n",
            "15/15 [==============================] - 0s 11ms/step - loss: 24.1466 - mae: 24.6466\n",
            "Epoch 8/100\n",
            "15/15 [==============================] - 0s 12ms/step - loss: 23.8612 - mae: 24.3612\n",
            "Epoch 9/100\n",
            "15/15 [==============================] - 0s 11ms/step - loss: 23.5021 - mae: 24.0021\n",
            "Epoch 10/100\n",
            "15/15 [==============================] - 0s 11ms/step - loss: 23.0670 - mae: 23.5670\n",
            "Epoch 11/100\n",
            "15/15 [==============================] - 0s 11ms/step - loss: 22.5438 - mae: 23.0438\n",
            "Epoch 12/100\n",
            "15/15 [==============================] - 0s 11ms/step - loss: 21.8974 - mae: 22.3974\n",
            "Epoch 13/100\n",
            "15/15 [==============================] - 0s 11ms/step - loss: 21.0702 - mae: 21.5702\n",
            "Epoch 14/100\n",
            "15/15 [==============================] - 0s 12ms/step - loss: 19.9696 - mae: 20.4696\n",
            "Epoch 15/100\n",
            "15/15 [==============================] - 0s 11ms/step - loss: 18.5102 - mae: 19.0102\n",
            "Epoch 16/100\n",
            "15/15 [==============================] - 0s 11ms/step - loss: 16.5475 - mae: 17.0472\n",
            "Epoch 17/100\n",
            "15/15 [==============================] - 0s 11ms/step - loss: 13.8538 - mae: 14.3506\n",
            "Epoch 18/100\n",
            "15/15 [==============================] - 0s 11ms/step - loss: 10.5012 - mae: 10.9939\n",
            "Epoch 19/100\n",
            "15/15 [==============================] - 0s 10ms/step - loss: 7.3676 - mae: 7.8571\n",
            "Epoch 20/100\n",
            "15/15 [==============================] - 0s 12ms/step - loss: 5.5114 - mae: 6.0016\n",
            "Epoch 21/100\n",
            "15/15 [==============================] - 0s 11ms/step - loss: 5.0471 - mae: 5.5321\n",
            "Epoch 22/100\n",
            "15/15 [==============================] - 0s 12ms/step - loss: 4.9470 - mae: 5.4269\n",
            "Epoch 23/100\n",
            "15/15 [==============================] - 0s 11ms/step - loss: 4.8421 - mae: 5.3209\n",
            "Epoch 24/100\n",
            "15/15 [==============================] - 0s 12ms/step - loss: 4.7128 - mae: 5.1914\n",
            "Epoch 25/100\n",
            "15/15 [==============================] - 0s 11ms/step - loss: 4.4331 - mae: 4.9129\n",
            "Epoch 26/100\n",
            "15/15 [==============================] - 0s 11ms/step - loss: 3.7989 - mae: 4.2782\n",
            "Epoch 27/100\n",
            "15/15 [==============================] - 0s 11ms/step - loss: 4.3108 - mae: 4.7891\n",
            "Epoch 28/100\n",
            "15/15 [==============================] - 0s 11ms/step - loss: 3.7601 - mae: 4.2435\n",
            "Epoch 29/100\n",
            "15/15 [==============================] - 0s 12ms/step - loss: 3.5759 - mae: 4.0545\n",
            "Epoch 30/100\n",
            "15/15 [==============================] - 0s 11ms/step - loss: 3.9035 - mae: 4.3765\n",
            "Epoch 31/100\n",
            "15/15 [==============================] - 0s 11ms/step - loss: 3.2445 - mae: 3.7262\n",
            "Epoch 32/100\n",
            "15/15 [==============================] - 0s 10ms/step - loss: 3.1246 - mae: 3.5952\n",
            "Epoch 33/100\n",
            "15/15 [==============================] - 0s 11ms/step - loss: 2.5596 - mae: 3.0280\n",
            "Epoch 34/100\n",
            "15/15 [==============================] - 0s 12ms/step - loss: 1.6254 - mae: 2.0759\n",
            "Epoch 35/100\n",
            "15/15 [==============================] - 0s 11ms/step - loss: 1.4664 - mae: 1.9113\n",
            "Epoch 36/100\n",
            "15/15 [==============================] - 0s 12ms/step - loss: 1.3501 - mae: 1.7944\n",
            "Epoch 37/100\n",
            "15/15 [==============================] - 0s 12ms/step - loss: 1.4003 - mae: 1.8410\n",
            "Epoch 38/100\n",
            "15/15 [==============================] - 0s 12ms/step - loss: 1.3083 - mae: 1.7471\n",
            "Epoch 39/100\n",
            "15/15 [==============================] - 0s 11ms/step - loss: 1.4201 - mae: 1.8628\n",
            "Epoch 40/100\n",
            "15/15 [==============================] - 0s 12ms/step - loss: 1.4654 - mae: 1.9071\n",
            "Epoch 41/100\n",
            "15/15 [==============================] - 0s 11ms/step - loss: 1.3205 - mae: 1.7601\n",
            "Epoch 42/100\n",
            "15/15 [==============================] - 0s 11ms/step - loss: 1.2642 - mae: 1.7022\n",
            "Epoch 43/100\n",
            "15/15 [==============================] - 0s 11ms/step - loss: 1.2110 - mae: 1.6473\n",
            "Epoch 44/100\n",
            "15/15 [==============================] - 0s 11ms/step - loss: 1.2869 - mae: 1.7158\n",
            "Epoch 45/100\n",
            "15/15 [==============================] - 0s 11ms/step - loss: 1.2635 - mae: 1.7036\n",
            "Epoch 46/100\n",
            "15/15 [==============================] - 0s 11ms/step - loss: 1.2648 - mae: 1.7016\n",
            "Epoch 47/100\n",
            "15/15 [==============================] - 0s 11ms/step - loss: 1.4079 - mae: 1.8504\n",
            "Epoch 48/100\n",
            "15/15 [==============================] - 0s 11ms/step - loss: 1.2602 - mae: 1.6978\n",
            "Epoch 49/100\n",
            "15/15 [==============================] - 0s 11ms/step - loss: 1.1642 - mae: 1.6011\n",
            "Epoch 50/100\n",
            "15/15 [==============================] - 0s 11ms/step - loss: 1.2351 - mae: 1.6726\n",
            "Epoch 51/100\n",
            "15/15 [==============================] - 0s 11ms/step - loss: 1.1943 - mae: 1.6302\n",
            "Epoch 52/100\n",
            "15/15 [==============================] - 0s 11ms/step - loss: 1.3954 - mae: 1.8335\n",
            "Epoch 53/100\n",
            "15/15 [==============================] - 0s 11ms/step - loss: 1.2958 - mae: 1.7298\n",
            "Epoch 54/100\n",
            "15/15 [==============================] - 0s 12ms/step - loss: 1.4149 - mae: 1.8524\n",
            "Epoch 55/100\n",
            "15/15 [==============================] - 0s 12ms/step - loss: 1.3967 - mae: 1.8419\n",
            "Epoch 56/100\n",
            "15/15 [==============================] - 0s 11ms/step - loss: 1.1787 - mae: 1.6129\n",
            "Epoch 57/100\n",
            "15/15 [==============================] - 0s 11ms/step - loss: 1.1616 - mae: 1.5938\n",
            "Epoch 58/100\n",
            "15/15 [==============================] - 0s 11ms/step - loss: 1.1814 - mae: 1.6157\n",
            "Epoch 59/100\n",
            "15/15 [==============================] - 0s 11ms/step - loss: 1.2110 - mae: 1.6437\n",
            "Epoch 60/100\n",
            "15/15 [==============================] - 0s 12ms/step - loss: 1.3306 - mae: 1.7698\n",
            "Epoch 61/100\n",
            "15/15 [==============================] - 0s 11ms/step - loss: 1.1964 - mae: 1.6346\n",
            "Epoch 62/100\n",
            "15/15 [==============================] - 0s 11ms/step - loss: 1.2929 - mae: 1.7280\n",
            "Epoch 63/100\n",
            "15/15 [==============================] - 0s 11ms/step - loss: 1.1552 - mae: 1.5876\n",
            "Epoch 64/100\n",
            "15/15 [==============================] - 0s 12ms/step - loss: 1.2619 - mae: 1.6993\n",
            "Epoch 65/100\n",
            "15/15 [==============================] - 0s 11ms/step - loss: 1.4707 - mae: 1.9156\n",
            "Epoch 66/100\n",
            "15/15 [==============================] - 0s 12ms/step - loss: 1.1165 - mae: 1.5492\n",
            "Epoch 67/100\n",
            "15/15 [==============================] - 0s 11ms/step - loss: 1.1080 - mae: 1.5361\n",
            "Epoch 68/100\n",
            "15/15 [==============================] - 0s 11ms/step - loss: 1.2273 - mae: 1.6584\n",
            "Epoch 69/100\n",
            "15/15 [==============================] - 0s 12ms/step - loss: 1.1112 - mae: 1.5420\n",
            "Epoch 70/100\n",
            "15/15 [==============================] - 0s 11ms/step - loss: 1.1276 - mae: 1.5597\n",
            "Epoch 71/100\n",
            "15/15 [==============================] - 0s 12ms/step - loss: 1.3585 - mae: 1.8017\n",
            "Epoch 72/100\n",
            "15/15 [==============================] - 0s 14ms/step - loss: 1.1108 - mae: 1.5365\n",
            "Epoch 73/100\n",
            "15/15 [==============================] - 0s 13ms/step - loss: 1.1056 - mae: 1.5307\n",
            "Epoch 74/100\n",
            "15/15 [==============================] - 0s 13ms/step - loss: 1.1072 - mae: 1.5352\n",
            "Epoch 75/100\n",
            "15/15 [==============================] - 0s 11ms/step - loss: 1.0785 - mae: 1.5049\n",
            "Epoch 76/100\n",
            "15/15 [==============================] - 0s 11ms/step - loss: 1.0811 - mae: 1.5085\n",
            "Epoch 77/100\n",
            "15/15 [==============================] - 0s 11ms/step - loss: 1.1884 - mae: 1.6173\n",
            "Epoch 78/100\n",
            "15/15 [==============================] - 0s 11ms/step - loss: 1.1520 - mae: 1.5823\n",
            "Epoch 79/100\n",
            "15/15 [==============================] - 0s 11ms/step - loss: 1.1477 - mae: 1.5815\n",
            "Epoch 80/100\n",
            "15/15 [==============================] - 0s 12ms/step - loss: 1.0640 - mae: 1.4907\n",
            "Epoch 81/100\n",
            "15/15 [==============================] - 0s 11ms/step - loss: 1.1743 - mae: 1.6052\n",
            "Epoch 82/100\n",
            "15/15 [==============================] - 0s 11ms/step - loss: 1.0983 - mae: 1.5289\n",
            "Epoch 83/100\n",
            "15/15 [==============================] - 0s 12ms/step - loss: 1.1108 - mae: 1.5397\n",
            "Epoch 84/100\n",
            "15/15 [==============================] - 0s 12ms/step - loss: 1.2095 - mae: 1.6478\n",
            "Epoch 85/100\n",
            "15/15 [==============================] - 0s 12ms/step - loss: 1.1233 - mae: 1.5513\n",
            "Epoch 86/100\n",
            "15/15 [==============================] - 0s 13ms/step - loss: 1.0616 - mae: 1.4888\n",
            "Epoch 87/100\n",
            "15/15 [==============================] - 0s 12ms/step - loss: 1.1328 - mae: 1.5639\n",
            "Epoch 88/100\n",
            "15/15 [==============================] - 0s 11ms/step - loss: 1.1784 - mae: 1.6059\n",
            "Epoch 89/100\n",
            "15/15 [==============================] - 0s 11ms/step - loss: 1.1336 - mae: 1.5641\n",
            "Epoch 90/100\n",
            "15/15 [==============================] - 0s 11ms/step - loss: 1.1944 - mae: 1.6274\n",
            "Epoch 91/100\n",
            "15/15 [==============================] - 0s 12ms/step - loss: 1.5627 - mae: 2.0121\n",
            "Epoch 92/100\n",
            "15/15 [==============================] - 0s 11ms/step - loss: 1.0609 - mae: 1.4866\n",
            "Epoch 93/100\n",
            "15/15 [==============================] - 0s 11ms/step - loss: 1.1765 - mae: 1.6117\n",
            "Epoch 94/100\n",
            "15/15 [==============================] - 0s 11ms/step - loss: 1.0710 - mae: 1.4986\n",
            "Epoch 95/100\n",
            "15/15 [==============================] - 0s 12ms/step - loss: 1.0603 - mae: 1.4863\n",
            "Epoch 96/100\n",
            "15/15 [==============================] - 0s 11ms/step - loss: 1.1522 - mae: 1.5918\n",
            "Epoch 97/100\n",
            "15/15 [==============================] - 0s 12ms/step - loss: 1.0443 - mae: 1.4656\n",
            "Epoch 98/100\n",
            "15/15 [==============================] - 0s 11ms/step - loss: 1.0570 - mae: 1.4801\n",
            "Epoch 99/100\n",
            "15/15 [==============================] - 0s 12ms/step - loss: 1.0333 - mae: 1.4551\n",
            "Epoch 100/100\n",
            "15/15 [==============================] - 0s 12ms/step - loss: 1.1394 - mae: 1.5691\n"
          ],
          "name": "stdout"
        }
      ]
    }
  ]
}
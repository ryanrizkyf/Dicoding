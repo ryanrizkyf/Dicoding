{
  "nbformat": 4,
  "nbformat_minor": 0,
  "metadata": {
    "colab": {
      "name": "Dicoding-Latihan-PengembanganMachineLearning-11.ipynb",
      "provenance": []
    },
    "kernelspec": {
      "name": "python3",
      "display_name": "Python 3"
    },
    "language_info": {
      "name": "python"
    }
  },
  "cells": [
    {
      "cell_type": "markdown",
      "metadata": {
        "id": "GBHmzpIyljWI"
      },
      "source": [
        "# Natural Language Processing (NLP) with Tensorflow"
      ]
    },
    {
      "cell_type": "markdown",
      "metadata": {
        "id": "V95qtDTzlnbO"
      },
      "source": [
        "# Binary Text Classification"
      ]
    },
    {
      "cell_type": "code",
      "metadata": {
        "id": "9f6F0KZOley5"
      },
      "source": [
        "import pandas as pd\n",
        "\n",
        "df = pd.read_csv('/content/yelp_labelled.txt', names=['sentence', 'label'], sep='\\t')"
      ],
      "execution_count": 1,
      "outputs": []
    },
    {
      "cell_type": "code",
      "metadata": {
        "colab": {
          "base_uri": "https://localhost:8080/",
          "height": 204
        },
        "id": "tYEh6YOImUhA",
        "outputId": "8e496eb6-a7bc-4d58-e978-ed69473a8f7f"
      },
      "source": [
        "df.tail()"
      ],
      "execution_count": 2,
      "outputs": [
        {
          "output_type": "execute_result",
          "data": {
            "text/html": [
              "<div>\n",
              "<style scoped>\n",
              "    .dataframe tbody tr th:only-of-type {\n",
              "        vertical-align: middle;\n",
              "    }\n",
              "\n",
              "    .dataframe tbody tr th {\n",
              "        vertical-align: top;\n",
              "    }\n",
              "\n",
              "    .dataframe thead th {\n",
              "        text-align: right;\n",
              "    }\n",
              "</style>\n",
              "<table border=\"1\" class=\"dataframe\">\n",
              "  <thead>\n",
              "    <tr style=\"text-align: right;\">\n",
              "      <th></th>\n",
              "      <th>sentence</th>\n",
              "      <th>label</th>\n",
              "    </tr>\n",
              "  </thead>\n",
              "  <tbody>\n",
              "    <tr>\n",
              "      <th>995</th>\n",
              "      <td>I think food should have flavor and texture an...</td>\n",
              "      <td>0</td>\n",
              "    </tr>\n",
              "    <tr>\n",
              "      <th>996</th>\n",
              "      <td>Appetite instantly gone.</td>\n",
              "      <td>0</td>\n",
              "    </tr>\n",
              "    <tr>\n",
              "      <th>997</th>\n",
              "      <td>Overall I was not impressed and would not go b...</td>\n",
              "      <td>0</td>\n",
              "    </tr>\n",
              "    <tr>\n",
              "      <th>998</th>\n",
              "      <td>The whole experience was underwhelming, and I ...</td>\n",
              "      <td>0</td>\n",
              "    </tr>\n",
              "    <tr>\n",
              "      <th>999</th>\n",
              "      <td>Then, as if I hadn't wasted enough of my life ...</td>\n",
              "      <td>0</td>\n",
              "    </tr>\n",
              "  </tbody>\n",
              "</table>\n",
              "</div>"
            ],
            "text/plain": [
              "                                              sentence  label\n",
              "995  I think food should have flavor and texture an...      0\n",
              "996                           Appetite instantly gone.      0\n",
              "997  Overall I was not impressed and would not go b...      0\n",
              "998  The whole experience was underwhelming, and I ...      0\n",
              "999  Then, as if I hadn't wasted enough of my life ...      0"
            ]
          },
          "metadata": {
            "tags": []
          },
          "execution_count": 2
        }
      ]
    },
    {
      "cell_type": "code",
      "metadata": {
        "id": "xSbevSl_mbL-"
      },
      "source": [
        "from sklearn.model_selection import train_test_split\n",
        "\n",
        "kalimat = df['sentence'].values\n",
        "y = df['label'].values\n",
        "kalimat_latih, kalimat_test, y_latih, y_test = train_test_split(kalimat, y, test_size=0.2)"
      ],
      "execution_count": 3,
      "outputs": []
    },
    {
      "cell_type": "code",
      "metadata": {
        "id": "aX9dx8twvYuq"
      },
      "source": [
        "from tensorflow.keras.preprocessing.text import Tokenizer\n",
        "from tensorflow.keras.preprocessing.sequence import pad_sequences\n",
        "\n",
        "tokenizer = Tokenizer(num_words=250, oov_token='x')\n",
        "tokenizer.fit_on_texts(kalimat_latih)\n",
        "tokenizer.fit_on_texts(kalimat_test)\n",
        "\n",
        "sekuens_latih = tokenizer.texts_to_sequences(kalimat_latih)\n",
        "sekuens_test = tokenizer.texts_to_sequences(kalimat_test)\n",
        "\n",
        "padded_latih = pad_sequences(sekuens_latih)\n",
        "padded_test = pad_sequences(sekuens_test)"
      ],
      "execution_count": 4,
      "outputs": []
    },
    {
      "cell_type": "code",
      "metadata": {
        "id": "D3xzzW3OwO4g"
      },
      "source": [
        "import tensorflow as tf\n",
        "\n",
        "model = tf.keras.Sequential([\n",
        "                             tf.keras.layers.Embedding(250, 16, input_length=20),\n",
        "                             tf.keras.layers.GlobalAveragePooling1D(),\n",
        "                             tf.keras.layers.Dense(24, activation='relu'),\n",
        "                             tf.keras.layers.Dense(1, activation='sigmoid')\n",
        "])\n",
        "\n",
        "model.compile(loss='binary_crossentropy', \n",
        "              optimizer='adam',\n",
        "              metrics=['accuracy'])"
      ],
      "execution_count": 5,
      "outputs": []
    },
    {
      "cell_type": "code",
      "metadata": {
        "colab": {
          "base_uri": "https://localhost:8080/"
        },
        "id": "slYCMxrhw4Jz",
        "outputId": "fbd3a041-6295-4c2b-ab8a-4c50e69c79cd"
      },
      "source": [
        "num_epochs = 30\n",
        "history = model.fit(padded_latih, \n",
        "                    y_latih, \n",
        "                    epochs=num_epochs, \n",
        "                    validation_data=(padded_test, y_test), \n",
        "                    verbose=2)"
      ],
      "execution_count": 6,
      "outputs": [
        {
          "output_type": "stream",
          "text": [
            "Epoch 1/30\n",
            "WARNING:tensorflow:Model was constructed with shape (None, 20) for input KerasTensor(type_spec=TensorSpec(shape=(None, 20), dtype=tf.float32, name='embedding_input'), name='embedding_input', description=\"created by layer 'embedding_input'\"), but it was called on an input with incompatible shape (32, 32).\n",
            "WARNING:tensorflow:Model was constructed with shape (None, 20) for input KerasTensor(type_spec=TensorSpec(shape=(None, 20), dtype=tf.float32, name='embedding_input'), name='embedding_input', description=\"created by layer 'embedding_input'\"), but it was called on an input with incompatible shape (32, 32).\n",
            "WARNING:tensorflow:Model was constructed with shape (None, 20) for input KerasTensor(type_spec=TensorSpec(shape=(None, 20), dtype=tf.float32, name='embedding_input'), name='embedding_input', description=\"created by layer 'embedding_input'\"), but it was called on an input with incompatible shape (None, 30).\n",
            "25/25 - 1s - loss: 0.6933 - accuracy: 0.5088 - val_loss: 0.6936 - val_accuracy: 0.4650\n",
            "Epoch 2/30\n",
            "25/25 - 0s - loss: 0.6919 - accuracy: 0.5088 - val_loss: 0.6929 - val_accuracy: 0.4650\n",
            "Epoch 3/30\n",
            "25/25 - 0s - loss: 0.6900 - accuracy: 0.5088 - val_loss: 0.6909 - val_accuracy: 0.4650\n",
            "Epoch 4/30\n",
            "25/25 - 0s - loss: 0.6865 - accuracy: 0.5975 - val_loss: 0.6873 - val_accuracy: 0.5400\n",
            "Epoch 5/30\n",
            "25/25 - 0s - loss: 0.6803 - accuracy: 0.6687 - val_loss: 0.6812 - val_accuracy: 0.6300\n",
            "Epoch 6/30\n",
            "25/25 - 0s - loss: 0.6718 - accuracy: 0.7013 - val_loss: 0.6723 - val_accuracy: 0.6850\n",
            "Epoch 7/30\n",
            "25/25 - 0s - loss: 0.6599 - accuracy: 0.7050 - val_loss: 0.6626 - val_accuracy: 0.7100\n",
            "Epoch 8/30\n",
            "25/25 - 0s - loss: 0.6438 - accuracy: 0.7337 - val_loss: 0.6509 - val_accuracy: 0.7000\n",
            "Epoch 9/30\n",
            "25/25 - 0s - loss: 0.6238 - accuracy: 0.7487 - val_loss: 0.6330 - val_accuracy: 0.7400\n",
            "Epoch 10/30\n",
            "25/25 - 0s - loss: 0.6015 - accuracy: 0.7613 - val_loss: 0.6194 - val_accuracy: 0.7150\n",
            "Epoch 11/30\n",
            "25/25 - 0s - loss: 0.5774 - accuracy: 0.7738 - val_loss: 0.5982 - val_accuracy: 0.7400\n",
            "Epoch 12/30\n",
            "25/25 - 0s - loss: 0.5504 - accuracy: 0.7925 - val_loss: 0.5770 - val_accuracy: 0.7300\n",
            "Epoch 13/30\n",
            "25/25 - 0s - loss: 0.5250 - accuracy: 0.7975 - val_loss: 0.5642 - val_accuracy: 0.7350\n",
            "Epoch 14/30\n",
            "25/25 - 0s - loss: 0.5003 - accuracy: 0.8037 - val_loss: 0.5463 - val_accuracy: 0.7300\n",
            "Epoch 15/30\n",
            "25/25 - 0s - loss: 0.4757 - accuracy: 0.8200 - val_loss: 0.5348 - val_accuracy: 0.7450\n",
            "Epoch 16/30\n",
            "25/25 - 0s - loss: 0.4538 - accuracy: 0.8188 - val_loss: 0.5175 - val_accuracy: 0.7500\n",
            "Epoch 17/30\n",
            "25/25 - 0s - loss: 0.4345 - accuracy: 0.8338 - val_loss: 0.5081 - val_accuracy: 0.7550\n",
            "Epoch 18/30\n",
            "25/25 - 0s - loss: 0.4170 - accuracy: 0.8400 - val_loss: 0.5008 - val_accuracy: 0.7650\n",
            "Epoch 19/30\n",
            "25/25 - 0s - loss: 0.3981 - accuracy: 0.8413 - val_loss: 0.4970 - val_accuracy: 0.7600\n",
            "Epoch 20/30\n",
            "25/25 - 0s - loss: 0.3831 - accuracy: 0.8500 - val_loss: 0.4892 - val_accuracy: 0.7850\n",
            "Epoch 21/30\n",
            "25/25 - 0s - loss: 0.3691 - accuracy: 0.8600 - val_loss: 0.4852 - val_accuracy: 0.7900\n",
            "Epoch 22/30\n",
            "25/25 - 0s - loss: 0.3584 - accuracy: 0.8587 - val_loss: 0.4830 - val_accuracy: 0.7800\n",
            "Epoch 23/30\n",
            "25/25 - 0s - loss: 0.3476 - accuracy: 0.8650 - val_loss: 0.4835 - val_accuracy: 0.7900\n",
            "Epoch 24/30\n",
            "25/25 - 0s - loss: 0.3382 - accuracy: 0.8650 - val_loss: 0.4822 - val_accuracy: 0.7950\n",
            "Epoch 25/30\n",
            "25/25 - 0s - loss: 0.3277 - accuracy: 0.8712 - val_loss: 0.4860 - val_accuracy: 0.7800\n",
            "Epoch 26/30\n",
            "25/25 - 0s - loss: 0.3233 - accuracy: 0.8650 - val_loss: 0.4854 - val_accuracy: 0.7850\n",
            "Epoch 27/30\n",
            "25/25 - 0s - loss: 0.3146 - accuracy: 0.8712 - val_loss: 0.4905 - val_accuracy: 0.7800\n",
            "Epoch 28/30\n",
            "25/25 - 0s - loss: 0.3056 - accuracy: 0.8712 - val_loss: 0.4907 - val_accuracy: 0.7800\n",
            "Epoch 29/30\n",
            "25/25 - 0s - loss: 0.2994 - accuracy: 0.8712 - val_loss: 0.4977 - val_accuracy: 0.7800\n",
            "Epoch 30/30\n",
            "25/25 - 0s - loss: 0.2970 - accuracy: 0.8700 - val_loss: 0.5035 - val_accuracy: 0.7900\n"
          ],
          "name": "stdout"
        }
      ]
    },
    {
      "cell_type": "markdown",
      "metadata": {
        "id": "z5HSyQM4xoRL"
      },
      "source": [
        "# Long Short-Term Memory (LSTM) Layer"
      ]
    },
    {
      "cell_type": "code",
      "metadata": {
        "id": "XyE5qG3nxrLA"
      },
      "source": [
        "# Contoh penggunaan LSTM dapat dilihat pada kode di bawah. \n",
        "# Kita dapat meletakkan layer LSTM setelah layer embedding dan sebelum Dense layer.\n",
        "\n",
        "# model = tf.keras.Sequential([\n",
        "#    tf.keras.layers.Embedding(input_dim=5000, output_dim=16),\n",
        "#    tf.keras.layers.LSTM(64),\n",
        "#    tf.keras.layers.Dense(128, activation='relu'),\n",
        "#    tf.keras.layers.Dense(5, activation='softmax')\n",
        "# ])"
      ],
      "execution_count": 7,
      "outputs": []
    }
  ]
}
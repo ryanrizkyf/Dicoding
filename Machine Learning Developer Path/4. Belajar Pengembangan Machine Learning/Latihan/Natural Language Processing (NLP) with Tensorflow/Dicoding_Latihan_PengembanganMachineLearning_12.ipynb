{
  "nbformat": 4,
  "nbformat_minor": 0,
  "metadata": {
    "colab": {
      "name": "Dicoding-Latihan-PengembanganMachineLearning-12.ipynb",
      "provenance": []
    },
    "kernelspec": {
      "name": "python3",
      "display_name": "Python 3"
    },
    "language_info": {
      "name": "python"
    },
    "accelerator": "GPU"
  },
  "cells": [
    {
      "cell_type": "markdown",
      "metadata": {
        "id": "mPKrMR2dyUlA"
      },
      "source": [
        "# Natural Language Processing with Tensorflow"
      ]
    },
    {
      "cell_type": "markdown",
      "metadata": {
        "id": "bNeMb9yEyZz0"
      },
      "source": [
        "# Multiclass Text Classification"
      ]
    },
    {
      "cell_type": "code",
      "metadata": {
        "id": "a7XPwf0gyCln"
      },
      "source": [
        "import pandas as pd\n",
        "\n",
        "df = pd.read_csv('/content/imdb_indonesian_movies_2.csv')\n",
        "df = df.drop(columns=['judul_film'])"
      ],
      "execution_count": 1,
      "outputs": []
    },
    {
      "cell_type": "code",
      "metadata": {
        "colab": {
          "base_uri": "https://localhost:8080/",
          "height": 204
        },
        "id": "jJFYVnaxy3OV",
        "outputId": "d9475fcf-2b4c-4235-948d-b20f6087a0d6"
      },
      "source": [
        "df.head()"
      ],
      "execution_count": 2,
      "outputs": [
        {
          "output_type": "execute_result",
          "data": {
            "text/html": [
              "<div>\n",
              "<style scoped>\n",
              "    .dataframe tbody tr th:only-of-type {\n",
              "        vertical-align: middle;\n",
              "    }\n",
              "\n",
              "    .dataframe tbody tr th {\n",
              "        vertical-align: top;\n",
              "    }\n",
              "\n",
              "    .dataframe thead th {\n",
              "        text-align: right;\n",
              "    }\n",
              "</style>\n",
              "<table border=\"1\" class=\"dataframe\">\n",
              "  <thead>\n",
              "    <tr style=\"text-align: right;\">\n",
              "      <th></th>\n",
              "      <th>ringkasan_sinopsis</th>\n",
              "      <th>genre</th>\n",
              "    </tr>\n",
              "  </thead>\n",
              "  <tbody>\n",
              "    <tr>\n",
              "      <th>0</th>\n",
              "      <td>Raden Mas Said putra sulung Tumenggung Wilarik...</td>\n",
              "      <td>Drama</td>\n",
              "    </tr>\n",
              "    <tr>\n",
              "      <th>1</th>\n",
              "      <td>Soe Hok Gie adalah seorang aktivis yang hidup ...</td>\n",
              "      <td>Drama</td>\n",
              "    </tr>\n",
              "    <tr>\n",
              "      <th>2</th>\n",
              "      <td>Guru Bangsa Tjokroaminoto menceritakan tentang...</td>\n",
              "      <td>Drama</td>\n",
              "    </tr>\n",
              "    <tr>\n",
              "      <th>3</th>\n",
              "      <td>POL menceritakan kisah hidup yang luar biasa d...</td>\n",
              "      <td>Drama</td>\n",
              "    </tr>\n",
              "    <tr>\n",
              "      <th>4</th>\n",
              "      <td>Perjalanan pahlawan Indonesia KH Ahmad Dahlan ...</td>\n",
              "      <td>Drama</td>\n",
              "    </tr>\n",
              "  </tbody>\n",
              "</table>\n",
              "</div>"
            ],
            "text/plain": [
              "                                  ringkasan_sinopsis  genre\n",
              "0  Raden Mas Said putra sulung Tumenggung Wilarik...  Drama\n",
              "1  Soe Hok Gie adalah seorang aktivis yang hidup ...  Drama\n",
              "2  Guru Bangsa Tjokroaminoto menceritakan tentang...  Drama\n",
              "3  POL menceritakan kisah hidup yang luar biasa d...  Drama\n",
              "4  Perjalanan pahlawan Indonesia KH Ahmad Dahlan ...  Drama"
            ]
          },
          "metadata": {
            "tags": []
          },
          "execution_count": 2
        }
      ]
    },
    {
      "cell_type": "code",
      "metadata": {
        "colab": {
          "base_uri": "https://localhost:8080/",
          "height": 419
        },
        "id": "lnQ8Jkn0y7ln",
        "outputId": "aa3bcb6e-dc0b-4da8-ba46-d5e58f311670"
      },
      "source": [
        "category = pd.get_dummies(df.genre)\n",
        "df_baru = pd.concat([df, category], axis=1)\n",
        "df_baru = df_baru.drop(columns='genre')\n",
        "df_baru"
      ],
      "execution_count": 3,
      "outputs": [
        {
          "output_type": "execute_result",
          "data": {
            "text/html": [
              "<div>\n",
              "<style scoped>\n",
              "    .dataframe tbody tr th:only-of-type {\n",
              "        vertical-align: middle;\n",
              "    }\n",
              "\n",
              "    .dataframe tbody tr th {\n",
              "        vertical-align: top;\n",
              "    }\n",
              "\n",
              "    .dataframe thead th {\n",
              "        text-align: right;\n",
              "    }\n",
              "</style>\n",
              "<table border=\"1\" class=\"dataframe\">\n",
              "  <thead>\n",
              "    <tr style=\"text-align: right;\">\n",
              "      <th></th>\n",
              "      <th>ringkasan_sinopsis</th>\n",
              "      <th>Drama</th>\n",
              "      <th>Horor</th>\n",
              "      <th>Komedi</th>\n",
              "      <th>Laga</th>\n",
              "      <th>Romantis</th>\n",
              "    </tr>\n",
              "  </thead>\n",
              "  <tbody>\n",
              "    <tr>\n",
              "      <th>0</th>\n",
              "      <td>Raden Mas Said putra sulung Tumenggung Wilarik...</td>\n",
              "      <td>1</td>\n",
              "      <td>0</td>\n",
              "      <td>0</td>\n",
              "      <td>0</td>\n",
              "      <td>0</td>\n",
              "    </tr>\n",
              "    <tr>\n",
              "      <th>1</th>\n",
              "      <td>Soe Hok Gie adalah seorang aktivis yang hidup ...</td>\n",
              "      <td>1</td>\n",
              "      <td>0</td>\n",
              "      <td>0</td>\n",
              "      <td>0</td>\n",
              "      <td>0</td>\n",
              "    </tr>\n",
              "    <tr>\n",
              "      <th>2</th>\n",
              "      <td>Guru Bangsa Tjokroaminoto menceritakan tentang...</td>\n",
              "      <td>1</td>\n",
              "      <td>0</td>\n",
              "      <td>0</td>\n",
              "      <td>0</td>\n",
              "      <td>0</td>\n",
              "    </tr>\n",
              "    <tr>\n",
              "      <th>3</th>\n",
              "      <td>POL menceritakan kisah hidup yang luar biasa d...</td>\n",
              "      <td>1</td>\n",
              "      <td>0</td>\n",
              "      <td>0</td>\n",
              "      <td>0</td>\n",
              "      <td>0</td>\n",
              "    </tr>\n",
              "    <tr>\n",
              "      <th>4</th>\n",
              "      <td>Perjalanan pahlawan Indonesia KH Ahmad Dahlan ...</td>\n",
              "      <td>1</td>\n",
              "      <td>0</td>\n",
              "      <td>0</td>\n",
              "      <td>0</td>\n",
              "      <td>0</td>\n",
              "    </tr>\n",
              "    <tr>\n",
              "      <th>...</th>\n",
              "      <td>...</td>\n",
              "      <td>...</td>\n",
              "      <td>...</td>\n",
              "      <td>...</td>\n",
              "      <td>...</td>\n",
              "      <td>...</td>\n",
              "    </tr>\n",
              "    <tr>\n",
              "      <th>1000</th>\n",
              "      <td>Winter in Tokyo berpusat pada kehidupan Ishida...</td>\n",
              "      <td>0</td>\n",
              "      <td>0</td>\n",
              "      <td>0</td>\n",
              "      <td>0</td>\n",
              "      <td>1</td>\n",
              "    </tr>\n",
              "    <tr>\n",
              "      <th>1001</th>\n",
              "      <td>Markonah melarikan diri ke Jakarta karena akan...</td>\n",
              "      <td>0</td>\n",
              "      <td>0</td>\n",
              "      <td>0</td>\n",
              "      <td>0</td>\n",
              "      <td>1</td>\n",
              "    </tr>\n",
              "    <tr>\n",
              "      <th>1002</th>\n",
              "      <td>Tempat aking lebih dari 36 jam, Last Night ada...</td>\n",
              "      <td>0</td>\n",
              "      <td>0</td>\n",
              "      <td>0</td>\n",
              "      <td>0</td>\n",
              "      <td>1</td>\n",
              "    </tr>\n",
              "    <tr>\n",
              "      <th>1003</th>\n",
              "      <td>Proyek baru ini adalah tentang seorang lelaki ...</td>\n",
              "      <td>0</td>\n",
              "      <td>0</td>\n",
              "      <td>0</td>\n",
              "      <td>0</td>\n",
              "      <td>1</td>\n",
              "    </tr>\n",
              "    <tr>\n",
              "      <th>1004</th>\n",
              "      <td>Atika (Meriam Bellina) mantan penyanyi tenar, ...</td>\n",
              "      <td>0</td>\n",
              "      <td>0</td>\n",
              "      <td>0</td>\n",
              "      <td>0</td>\n",
              "      <td>1</td>\n",
              "    </tr>\n",
              "  </tbody>\n",
              "</table>\n",
              "<p>1005 rows × 6 columns</p>\n",
              "</div>"
            ],
            "text/plain": [
              "                                     ringkasan_sinopsis  Drama  ...  Laga  Romantis\n",
              "0     Raden Mas Said putra sulung Tumenggung Wilarik...      1  ...     0         0\n",
              "1     Soe Hok Gie adalah seorang aktivis yang hidup ...      1  ...     0         0\n",
              "2     Guru Bangsa Tjokroaminoto menceritakan tentang...      1  ...     0         0\n",
              "3     POL menceritakan kisah hidup yang luar biasa d...      1  ...     0         0\n",
              "4     Perjalanan pahlawan Indonesia KH Ahmad Dahlan ...      1  ...     0         0\n",
              "...                                                 ...    ...  ...   ...       ...\n",
              "1000  Winter in Tokyo berpusat pada kehidupan Ishida...      0  ...     0         1\n",
              "1001  Markonah melarikan diri ke Jakarta karena akan...      0  ...     0         1\n",
              "1002  Tempat aking lebih dari 36 jam, Last Night ada...      0  ...     0         1\n",
              "1003  Proyek baru ini adalah tentang seorang lelaki ...      0  ...     0         1\n",
              "1004  Atika (Meriam Bellina) mantan penyanyi tenar, ...      0  ...     0         1\n",
              "\n",
              "[1005 rows x 6 columns]"
            ]
          },
          "metadata": {
            "tags": []
          },
          "execution_count": 3
        }
      ]
    },
    {
      "cell_type": "code",
      "metadata": {
        "id": "iISgDjkRzKvJ"
      },
      "source": [
        "sinopsis = df_baru['ringkasan_sinopsis'].values\n",
        "label = df_baru[['Drama', 'Horor', 'Komedi', 'Laga', 'Romantis']].values"
      ],
      "execution_count": 4,
      "outputs": []
    },
    {
      "cell_type": "code",
      "metadata": {
        "id": "9aBKSof4zXdC"
      },
      "source": [
        "from sklearn.model_selection import train_test_split\n",
        "\n",
        "sinopsis_latih, sinopsis_test, label_latih, label_test = train_test_split(sinopsis, label, test_size=0.2)"
      ],
      "execution_count": 5,
      "outputs": []
    },
    {
      "cell_type": "code",
      "metadata": {
        "id": "GWufGm-M0vFj"
      },
      "source": [
        "from tensorflow.keras.preprocessing.text import Tokenizer\n",
        "from tensorflow.keras.preprocessing.sequence import pad_sequences\n",
        " \n",
        "tokenizer = Tokenizer(num_words=5000, oov_token='x')\n",
        "tokenizer.fit_on_texts(sinopsis_latih) \n",
        "tokenizer.fit_on_texts(sinopsis_test)\n",
        " \n",
        "sekuens_latih = tokenizer.texts_to_sequences(sinopsis_latih)\n",
        "sekuens_test = tokenizer.texts_to_sequences(sinopsis_test)\n",
        " \n",
        "padded_latih = pad_sequences(sekuens_latih) \n",
        "padded_test = pad_sequences(sekuens_test)"
      ],
      "execution_count": 6,
      "outputs": []
    },
    {
      "cell_type": "code",
      "metadata": {
        "id": "Jt_-kvSW1gjR"
      },
      "source": [
        "import tensorflow as tf\n",
        "\n",
        "model = tf.keras.Sequential([\n",
        "    tf.keras.layers.Embedding(input_dim=5000, output_dim=16),\n",
        "    tf.keras.layers.LSTM(64),\n",
        "    tf.keras.layers.Dense(128, activation='relu'),\n",
        "    tf.keras.layers.Dense(64, activation='relu'),\n",
        "    tf.keras.layers.Dense(5, activation='softmax')\n",
        "])\n",
        "model.compile(loss='categorical_crossentropy',\n",
        "              optimizer='adam',\n",
        "              metrics=['accuracy'])"
      ],
      "execution_count": 7,
      "outputs": []
    },
    {
      "cell_type": "code",
      "metadata": {
        "colab": {
          "base_uri": "https://localhost:8080/"
        },
        "id": "R_Pcw_yy2GaX",
        "outputId": "d10d1e6d-6d84-4016-e6a7-820d9a4d8ccb"
      },
      "source": [
        "num_epochs = 30\n",
        "history = model.fit(padded_latih, \n",
        "                    label_latih, \n",
        "                    epochs=num_epochs, \n",
        "                    validation_data=(padded_test, label_test), \n",
        "                    verbose=2)"
      ],
      "execution_count": 8,
      "outputs": [
        {
          "output_type": "stream",
          "text": [
            "Epoch 1/30\n",
            "26/26 - 12s - loss: 1.6104 - accuracy: 0.1803 - val_loss: 1.6096 - val_accuracy: 0.1940\n",
            "Epoch 2/30\n",
            "26/26 - 5s - loss: 1.6058 - accuracy: 0.2413 - val_loss: 1.6065 - val_accuracy: 0.1990\n",
            "Epoch 3/30\n",
            "26/26 - 5s - loss: 1.5517 - accuracy: 0.3035 - val_loss: 1.5739 - val_accuracy: 0.2836\n",
            "Epoch 4/30\n",
            "26/26 - 5s - loss: 1.3102 - accuracy: 0.4104 - val_loss: 1.5810 - val_accuracy: 0.2886\n",
            "Epoch 5/30\n",
            "26/26 - 5s - loss: 0.9891 - accuracy: 0.5634 - val_loss: 1.7664 - val_accuracy: 0.2985\n",
            "Epoch 6/30\n",
            "26/26 - 5s - loss: 0.6549 - accuracy: 0.6953 - val_loss: 2.1211 - val_accuracy: 0.2687\n",
            "Epoch 7/30\n",
            "26/26 - 5s - loss: 0.4788 - accuracy: 0.8209 - val_loss: 2.1490 - val_accuracy: 0.3284\n",
            "Epoch 8/30\n",
            "26/26 - 5s - loss: 0.2699 - accuracy: 0.9167 - val_loss: 2.5522 - val_accuracy: 0.3682\n",
            "Epoch 9/30\n",
            "26/26 - 5s - loss: 0.1139 - accuracy: 0.9789 - val_loss: 3.1018 - val_accuracy: 0.3632\n",
            "Epoch 10/30\n",
            "26/26 - 5s - loss: 0.0479 - accuracy: 0.9888 - val_loss: 3.3729 - val_accuracy: 0.3682\n",
            "Epoch 11/30\n",
            "26/26 - 5s - loss: 0.0342 - accuracy: 0.9913 - val_loss: 3.6458 - val_accuracy: 0.3483\n",
            "Epoch 12/30\n",
            "26/26 - 5s - loss: 0.0236 - accuracy: 0.9950 - val_loss: 3.9532 - val_accuracy: 0.3582\n",
            "Epoch 13/30\n",
            "26/26 - 5s - loss: 0.0292 - accuracy: 0.9938 - val_loss: 3.6843 - val_accuracy: 0.3433\n",
            "Epoch 14/30\n",
            "26/26 - 5s - loss: 0.0215 - accuracy: 0.9988 - val_loss: 4.1014 - val_accuracy: 0.3731\n",
            "Epoch 15/30\n",
            "26/26 - 5s - loss: 0.0124 - accuracy: 0.9988 - val_loss: 4.2744 - val_accuracy: 0.3483\n",
            "Epoch 16/30\n",
            "26/26 - 5s - loss: 0.0148 - accuracy: 0.9988 - val_loss: 4.2166 - val_accuracy: 0.3383\n",
            "Epoch 17/30\n",
            "26/26 - 5s - loss: 0.0078 - accuracy: 0.9988 - val_loss: 4.4322 - val_accuracy: 0.3532\n",
            "Epoch 18/30\n",
            "26/26 - 5s - loss: 0.0060 - accuracy: 0.9988 - val_loss: 4.5824 - val_accuracy: 0.3582\n",
            "Epoch 19/30\n",
            "26/26 - 5s - loss: 0.0093 - accuracy: 0.9988 - val_loss: 4.5170 - val_accuracy: 0.3532\n",
            "Epoch 20/30\n",
            "26/26 - 5s - loss: 0.0073 - accuracy: 0.9975 - val_loss: 4.5914 - val_accuracy: 0.3532\n",
            "Epoch 21/30\n",
            "26/26 - 5s - loss: 0.0043 - accuracy: 0.9975 - val_loss: 4.8067 - val_accuracy: 0.3632\n",
            "Epoch 22/30\n",
            "26/26 - 5s - loss: 0.0051 - accuracy: 0.9988 - val_loss: 4.9403 - val_accuracy: 0.3632\n",
            "Epoch 23/30\n",
            "26/26 - 5s - loss: 0.0082 - accuracy: 0.9988 - val_loss: 4.9723 - val_accuracy: 0.3781\n",
            "Epoch 24/30\n",
            "26/26 - 5s - loss: 0.0050 - accuracy: 0.9975 - val_loss: 4.9407 - val_accuracy: 0.3483\n",
            "Epoch 25/30\n",
            "26/26 - 5s - loss: 0.0041 - accuracy: 0.9988 - val_loss: 5.2287 - val_accuracy: 0.3532\n",
            "Epoch 26/30\n",
            "26/26 - 5s - loss: 0.0064 - accuracy: 0.9988 - val_loss: 5.1359 - val_accuracy: 0.3532\n",
            "Epoch 27/30\n",
            "26/26 - 5s - loss: 0.0037 - accuracy: 0.9988 - val_loss: 5.3416 - val_accuracy: 0.3284\n",
            "Epoch 28/30\n",
            "26/26 - 5s - loss: 0.0034 - accuracy: 0.9975 - val_loss: 5.3642 - val_accuracy: 0.3433\n",
            "Epoch 29/30\n",
            "26/26 - 5s - loss: 0.0037 - accuracy: 0.9975 - val_loss: 5.4565 - val_accuracy: 0.3333\n",
            "Epoch 30/30\n",
            "26/26 - 5s - loss: 0.0031 - accuracy: 0.9975 - val_loss: 5.5424 - val_accuracy: 0.3433\n"
          ],
          "name": "stdout"
        }
      ]
    }
  ]
}
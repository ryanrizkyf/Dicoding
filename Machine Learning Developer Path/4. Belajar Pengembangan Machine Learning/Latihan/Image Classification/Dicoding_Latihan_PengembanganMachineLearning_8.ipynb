{
  "nbformat": 4,
  "nbformat_minor": 0,
  "metadata": {
    "colab": {
      "name": "Dicoding-Latihan-PengembanganMachineLearning-8.ipynb",
      "provenance": []
    },
    "kernelspec": {
      "name": "python3",
      "display_name": "Python 3"
    },
    "language_info": {
      "name": "python"
    },
    "accelerator": "GPU"
  },
  "cells": [
    {
      "cell_type": "markdown",
      "metadata": {
        "id": "RuzsdL8Id5wV"
      },
      "source": [
        "# Image Classification"
      ]
    },
    {
      "cell_type": "markdown",
      "metadata": {
        "id": "tV76nUJid8H_"
      },
      "source": [
        "# Transfer Learning"
      ]
    },
    {
      "cell_type": "code",
      "metadata": {
        "colab": {
          "base_uri": "https://localhost:8080/"
        },
        "id": "Hv5WamHLdylS",
        "outputId": "e780d987-af87-4728-94e8-6cb03589072e"
      },
      "source": [
        "!wget --no-check-certificate \\\n",
        "  https://dicodingacademy.blob.core.windows.net/picodiploma/ml_pengembangan_academy/Chessman-image-dataset.zip \\\n",
        "  -O /tmp/Chessman-image-dataset.zip"
      ],
      "execution_count": 1,
      "outputs": [
        {
          "output_type": "stream",
          "text": [
            "--2021-06-17 10:37:21--  https://dicodingacademy.blob.core.windows.net/picodiploma/ml_pengembangan_academy/Chessman-image-dataset.zip\n",
            "Resolving dicodingacademy.blob.core.windows.net (dicodingacademy.blob.core.windows.net)... 52.239.197.36\n",
            "Connecting to dicodingacademy.blob.core.windows.net (dicodingacademy.blob.core.windows.net)|52.239.197.36|:443... connected.\n",
            "HTTP request sent, awaiting response... 200 OK\n",
            "Length: 60684125 (58M) [application/zip]\n",
            "Saving to: ‘/tmp/Chessman-image-dataset.zip’\n",
            "\n",
            "/tmp/Chessman-image 100%[===================>]  57.87M  1.47MB/s    in 36s     \n",
            "\n",
            "2021-06-17 10:37:57 (1.63 MB/s) - ‘/tmp/Chessman-image-dataset.zip’ saved [60684125/60684125]\n",
            "\n"
          ],
          "name": "stdout"
        }
      ]
    },
    {
      "cell_type": "code",
      "metadata": {
        "id": "7z42fWN5e1Hk"
      },
      "source": [
        "import os\n",
        "import zipfile\n",
        "from tensorflow.keras.preprocessing.image import ImageDataGenerator"
      ],
      "execution_count": 2,
      "outputs": []
    },
    {
      "cell_type": "code",
      "metadata": {
        "id": "rlj-lac4e5Av"
      },
      "source": [
        "local_zip = '/tmp/Chessman-image-dataset.zip'\n",
        "zip_ref = zipfile.ZipFile(local_zip, 'r')\n",
        "zip_ref.extractall('/tmp')\n",
        "zip_ref.close()"
      ],
      "execution_count": 3,
      "outputs": []
    },
    {
      "cell_type": "code",
      "metadata": {
        "id": "JbX3V7qtfCJO"
      },
      "source": [
        "train_dir = os.path.join('/tmp/Chessman-image-dataset/Chess')"
      ],
      "execution_count": 4,
      "outputs": []
    },
    {
      "cell_type": "code",
      "metadata": {
        "id": "_8rfmjwBfFDp"
      },
      "source": [
        "train_datagen = ImageDataGenerator(rescale=1./255,\n",
        "    rotation_range=20,\n",
        "    zoom_range=0.2,\n",
        "    shear_range=0.2,\n",
        "    fill_mode = 'nearest',\n",
        "    validation_split=0.1) # set validation split"
      ],
      "execution_count": 5,
      "outputs": []
    },
    {
      "cell_type": "code",
      "metadata": {
        "colab": {
          "base_uri": "https://localhost:8080/"
        },
        "id": "p3p9XSf_fLnP",
        "outputId": "a6a1d39c-74c8-4607-8e7f-39b967192610"
      },
      "source": [
        "train_generator = train_datagen.flow_from_directory(\n",
        "    train_dir,\n",
        "    target_size=(150, 150),\n",
        "    batch_size=8,\n",
        "    class_mode='categorical',\n",
        "    subset='training') # set as training data\n",
        "    \n",
        "validation_generator = train_datagen.flow_from_directory(\n",
        "    train_dir, # same directory as training data\n",
        "    target_size=(150, 150),\n",
        "    batch_size=16,\n",
        "    class_mode='categorical',\n",
        "    subset='validation')"
      ],
      "execution_count": 6,
      "outputs": [
        {
          "output_type": "stream",
          "text": [
            "Found 499 images belonging to 6 classes.\n",
            "Found 52 images belonging to 6 classes.\n"
          ],
          "name": "stdout"
        }
      ]
    },
    {
      "cell_type": "code",
      "metadata": {
        "colab": {
          "base_uri": "https://localhost:8080/"
        },
        "id": "9PTtuyEbfVuz",
        "outputId": "4d026782-d592-429f-dc14-8e4db5ba7306"
      },
      "source": [
        "import tensorflow as tf\n",
        "from tensorflow.keras.layers import Input\n",
        "from tensorflow.keras.applications import ResNet50\n",
        "from tensorflow.keras.applications import ResNet152V2\n",
        "\n",
        "model = tf.keras.models.Sequential([\n",
        "    ResNet152V2(weights=\"imagenet\", include_top=False, input_tensor=Input(shape=(150, 150, 3))),\n",
        "    # tf.keras.layers.Dropout(0.4),\n",
        "    tf.keras.layers.Flatten(), \n",
        "    tf.keras.layers.Dense(512, activation='relu'),\n",
        "    tf.keras.layers.Dense(256, activation='relu'),\n",
        "    tf.keras.layers.Dense(6, activation='softmax')  \n",
        "])"
      ],
      "execution_count": 7,
      "outputs": [
        {
          "output_type": "stream",
          "text": [
            "Downloading data from https://storage.googleapis.com/tensorflow/keras-applications/resnet/resnet152v2_weights_tf_dim_ordering_tf_kernels_notop.h5\n",
            "234553344/234545216 [==============================] - 2s 0us/step\n"
          ],
          "name": "stdout"
        }
      ]
    },
    {
      "cell_type": "code",
      "metadata": {
        "id": "tQEtlA4ffwkD"
      },
      "source": [
        "model.compile(optimizer=tf.optimizers.Adam(),\n",
        "              loss='categorical_crossentropy',\n",
        "              metrics=['accuracy'])"
      ],
      "execution_count": 8,
      "outputs": []
    },
    {
      "cell_type": "code",
      "metadata": {
        "colab": {
          "base_uri": "https://localhost:8080/"
        },
        "id": "1i-6BUief7gM",
        "outputId": "77797c67-75ba-44c9-a403-b84e344b13a6"
      },
      "source": [
        "history = model.fit(train_generator,\n",
        "                    validation_data=validation_generator,\n",
        "                    epochs=50,\n",
        "                    verbose=2)"
      ],
      "execution_count": 9,
      "outputs": [
        {
          "output_type": "stream",
          "text": [
            "Epoch 1/50\n",
            "63/63 - 66s - loss: 2.4051 - accuracy: 0.1904 - val_loss: 108631.8672 - val_accuracy: 0.1923\n",
            "Epoch 2/50\n",
            "63/63 - 14s - loss: 1.9181 - accuracy: 0.1804 - val_loss: 828451.8750 - val_accuracy: 0.1538\n",
            "Epoch 3/50\n",
            "63/63 - 14s - loss: 1.8977 - accuracy: 0.1984 - val_loss: 198971.5156 - val_accuracy: 0.2500\n",
            "Epoch 4/50\n",
            "63/63 - 14s - loss: 1.8582 - accuracy: 0.1764 - val_loss: 248.0387 - val_accuracy: 0.2692\n",
            "Epoch 5/50\n",
            "63/63 - 14s - loss: 1.8660 - accuracy: 0.1884 - val_loss: 74.7261 - val_accuracy: 0.2115\n",
            "Epoch 6/50\n",
            "63/63 - 14s - loss: 1.8843 - accuracy: 0.1703 - val_loss: 150.1291 - val_accuracy: 0.0962\n",
            "Epoch 7/50\n",
            "63/63 - 14s - loss: 1.8119 - accuracy: 0.1623 - val_loss: 3.8559 - val_accuracy: 0.2115\n",
            "Epoch 8/50\n",
            "63/63 - 14s - loss: 1.8171 - accuracy: 0.1703 - val_loss: 2.7914 - val_accuracy: 0.1923\n",
            "Epoch 9/50\n",
            "63/63 - 14s - loss: 1.8032 - accuracy: 0.1743 - val_loss: 1.8147 - val_accuracy: 0.2115\n",
            "Epoch 10/50\n",
            "63/63 - 14s - loss: 1.7937 - accuracy: 0.1824 - val_loss: 1.9212 - val_accuracy: 0.2115\n",
            "Epoch 11/50\n",
            "63/63 - 14s - loss: 1.8314 - accuracy: 0.1964 - val_loss: 2.0545 - val_accuracy: 0.1923\n",
            "Epoch 12/50\n",
            "63/63 - 14s - loss: 1.8610 - accuracy: 0.1723 - val_loss: 43.8666 - val_accuracy: 0.1923\n",
            "Epoch 13/50\n",
            "63/63 - 14s - loss: 1.8456 - accuracy: 0.1884 - val_loss: 45.9670 - val_accuracy: 0.1346\n",
            "Epoch 14/50\n",
            "63/63 - 14s - loss: 1.8247 - accuracy: 0.1944 - val_loss: 1.9871 - val_accuracy: 0.2115\n",
            "Epoch 15/50\n",
            "63/63 - 14s - loss: 1.7860 - accuracy: 0.1904 - val_loss: 1.7839 - val_accuracy: 0.1923\n",
            "Epoch 16/50\n",
            "63/63 - 14s - loss: 1.7784 - accuracy: 0.1784 - val_loss: 1.7846 - val_accuracy: 0.1923\n",
            "Epoch 17/50\n",
            "63/63 - 14s - loss: 1.7794 - accuracy: 0.1743 - val_loss: 1.7855 - val_accuracy: 0.1923\n",
            "Epoch 18/50\n",
            "63/63 - 14s - loss: 1.7813 - accuracy: 0.1804 - val_loss: 1.7809 - val_accuracy: 0.2115\n",
            "Epoch 19/50\n",
            "63/63 - 14s - loss: 1.7810 - accuracy: 0.1884 - val_loss: 1.8118 - val_accuracy: 0.1731\n",
            "Epoch 20/50\n",
            "63/63 - 14s - loss: 1.8263 - accuracy: 0.1904 - val_loss: 2.5951 - val_accuracy: 0.1923\n",
            "Epoch 21/50\n",
            "63/63 - 14s - loss: 1.8133 - accuracy: 0.1743 - val_loss: 1.7567 - val_accuracy: 0.2115\n",
            "Epoch 22/50\n",
            "63/63 - 14s - loss: 1.8006 - accuracy: 0.1984 - val_loss: 1.7851 - val_accuracy: 0.1923\n",
            "Epoch 23/50\n",
            "63/63 - 14s - loss: 1.7821 - accuracy: 0.1884 - val_loss: 1.7997 - val_accuracy: 0.1923\n",
            "Epoch 24/50\n",
            "63/63 - 14s - loss: 1.7849 - accuracy: 0.1824 - val_loss: 1.7839 - val_accuracy: 0.1923\n",
            "Epoch 25/50\n",
            "63/63 - 14s - loss: 1.7824 - accuracy: 0.1764 - val_loss: 1.7831 - val_accuracy: 0.1923\n",
            "Epoch 26/50\n",
            "63/63 - 14s - loss: 1.7819 - accuracy: 0.1964 - val_loss: 1.7835 - val_accuracy: 0.1923\n",
            "Epoch 27/50\n",
            "63/63 - 14s - loss: 1.7827 - accuracy: 0.1784 - val_loss: 1.7817 - val_accuracy: 0.2115\n",
            "Epoch 28/50\n",
            "63/63 - 14s - loss: 1.7868 - accuracy: 0.1944 - val_loss: 1.7823 - val_accuracy: 0.1731\n",
            "Epoch 29/50\n",
            "63/63 - 14s - loss: 1.7897 - accuracy: 0.1543 - val_loss: 1.7828 - val_accuracy: 0.1923\n",
            "Epoch 30/50\n",
            "63/63 - 14s - loss: 1.7859 - accuracy: 0.1964 - val_loss: 1.7794 - val_accuracy: 0.1923\n",
            "Epoch 31/50\n",
            "63/63 - 14s - loss: 1.7903 - accuracy: 0.1824 - val_loss: 1.7794 - val_accuracy: 0.1731\n",
            "Epoch 32/50\n",
            "63/63 - 14s - loss: 1.7839 - accuracy: 0.1743 - val_loss: 1.7821 - val_accuracy: 0.2115\n",
            "Epoch 33/50\n",
            "63/63 - 14s - loss: 1.7813 - accuracy: 0.1804 - val_loss: 1.8044 - val_accuracy: 0.1923\n",
            "Epoch 34/50\n",
            "63/63 - 14s - loss: 1.7918 - accuracy: 0.1904 - val_loss: 1.7812 - val_accuracy: 0.1731\n",
            "Epoch 35/50\n",
            "63/63 - 14s - loss: 1.7818 - accuracy: 0.1944 - val_loss: 1.7804 - val_accuracy: 0.1923\n",
            "Epoch 36/50\n",
            "63/63 - 14s - loss: 1.7799 - accuracy: 0.2044 - val_loss: 1.7824 - val_accuracy: 0.2115\n",
            "Epoch 37/50\n",
            "63/63 - 14s - loss: 1.7899 - accuracy: 0.1844 - val_loss: 1.7817 - val_accuracy: 0.2115\n",
            "Epoch 38/50\n",
            "63/63 - 14s - loss: 1.7823 - accuracy: 0.1623 - val_loss: 1.7795 - val_accuracy: 0.1923\n",
            "Epoch 39/50\n",
            "63/63 - 14s - loss: 1.7920 - accuracy: 0.1764 - val_loss: 1.7821 - val_accuracy: 0.2115\n",
            "Epoch 40/50\n",
            "63/63 - 14s - loss: 1.7713 - accuracy: 0.1844 - val_loss: 1.7635 - val_accuracy: 0.2115\n",
            "Epoch 41/50\n",
            "63/63 - 14s - loss: 1.7824 - accuracy: 0.1804 - val_loss: 1.7814 - val_accuracy: 0.2115\n",
            "Epoch 42/50\n",
            "63/63 - 14s - loss: 1.7823 - accuracy: 0.2024 - val_loss: 1.8205 - val_accuracy: 0.1923\n",
            "Epoch 43/50\n",
            "63/63 - 14s - loss: 1.7972 - accuracy: 0.1743 - val_loss: 1.7801 - val_accuracy: 0.1731\n",
            "Epoch 44/50\n",
            "63/63 - 14s - loss: 1.7878 - accuracy: 0.1603 - val_loss: 1.7793 - val_accuracy: 0.1923\n",
            "Epoch 45/50\n",
            "63/63 - 14s - loss: 1.7819 - accuracy: 0.1964 - val_loss: 1.7792 - val_accuracy: 0.1923\n",
            "Epoch 46/50\n",
            "63/63 - 14s - loss: 1.7803 - accuracy: 0.1904 - val_loss: 1.7830 - val_accuracy: 0.1923\n",
            "Epoch 47/50\n",
            "63/63 - 14s - loss: 1.7814 - accuracy: 0.1964 - val_loss: 1.7822 - val_accuracy: 0.2115\n",
            "Epoch 48/50\n",
            "63/63 - 14s - loss: 1.7790 - accuracy: 0.2044 - val_loss: 1.7792 - val_accuracy: 0.1923\n",
            "Epoch 49/50\n",
            "63/63 - 14s - loss: 1.7764 - accuracy: 0.2024 - val_loss: 1.7836 - val_accuracy: 0.1923\n",
            "Epoch 50/50\n",
            "63/63 - 14s - loss: 1.7813 - accuracy: 0.1824 - val_loss: 1.7821 - val_accuracy: 0.2115\n"
          ],
          "name": "stdout"
        }
      ]
    }
  ]
}
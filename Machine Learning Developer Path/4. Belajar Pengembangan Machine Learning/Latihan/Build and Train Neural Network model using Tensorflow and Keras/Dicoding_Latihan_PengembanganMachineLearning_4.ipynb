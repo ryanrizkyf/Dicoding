{
  "nbformat": 4,
  "nbformat_minor": 0,
  "metadata": {
    "colab": {
      "name": "Dicoding-Latihan-PengembanganMachineLearning-4.ipynb",
      "provenance": []
    },
    "kernelspec": {
      "name": "python3",
      "display_name": "Python 3"
    },
    "language_info": {
      "name": "python"
    }
  },
  "cells": [
    {
      "cell_type": "markdown",
      "metadata": {
        "id": "CAXT_5Z3TjTR"
      },
      "source": [
        "# Membuat dan Melatih Model Neural Network dengan Tensorflow dan Keras"
      ]
    },
    {
      "cell_type": "markdown",
      "metadata": {
        "id": "2osUctaQTqzd"
      },
      "source": [
        "# Penggunaan Callbacks"
      ]
    },
    {
      "cell_type": "code",
      "metadata": {
        "id": "FLAibvQaTfpQ"
      },
      "source": [
        "import tensorflow as tf\n",
        "import pandas as pd\n",
        "from sklearn import preprocessing\n",
        "from sklearn.model_selection import train_test_split\n",
        "from keras.models import Sequential\n",
        "from keras.layers import Dense"
      ],
      "execution_count": 1,
      "outputs": []
    },
    {
      "cell_type": "code",
      "metadata": {
        "id": "-m-ZhhgnT1Su"
      },
      "source": [
        "df = pd.read_csv('/content/Iris.csv')"
      ],
      "execution_count": 2,
      "outputs": []
    },
    {
      "cell_type": "code",
      "metadata": {
        "id": "vsmqDqonT3cM"
      },
      "source": [
        "df = df.drop(columns='Id')"
      ],
      "execution_count": 3,
      "outputs": []
    },
    {
      "cell_type": "code",
      "metadata": {
        "id": "IjfGs022T4U2"
      },
      "source": [
        "category = pd.get_dummies(df.Species)"
      ],
      "execution_count": 4,
      "outputs": []
    },
    {
      "cell_type": "code",
      "metadata": {
        "id": "PpmZ5Du7T6LM"
      },
      "source": [
        "new_df = pd.concat([df, category], axis=1)\n",
        "new_df = new_df.drop(columns='Species')"
      ],
      "execution_count": 5,
      "outputs": []
    },
    {
      "cell_type": "code",
      "metadata": {
        "id": "JuA0wFe5T7of"
      },
      "source": [
        "dataset = new_df.values"
      ],
      "execution_count": 6,
      "outputs": []
    },
    {
      "cell_type": "code",
      "metadata": {
        "id": "pSogTGlST8w5"
      },
      "source": [
        "X = dataset[:,0:4]\n",
        "y = dataset[:,4:7]"
      ],
      "execution_count": 7,
      "outputs": []
    },
    {
      "cell_type": "code",
      "metadata": {
        "id": "6njna-l8T9JD"
      },
      "source": [
        "min_max_scaler = preprocessing.MinMaxScaler()\n",
        "X_scale = min_max_scaler.fit_transform(X)\n",
        "X_train, X_test, Y_train, Y_test = train_test_split(X_scale, y, test_size=0.3)"
      ],
      "execution_count": 8,
      "outputs": []
    },
    {
      "cell_type": "code",
      "metadata": {
        "id": "96ZVsqUnUAHN"
      },
      "source": [
        "model = Sequential([    \n",
        "                    Dense(64, activation='relu', input_shape=(4,)),    \n",
        "                    Dense(64, activation='relu'),    \n",
        "                    Dense(3, activation='sigmoid'),])"
      ],
      "execution_count": 9,
      "outputs": []
    },
    {
      "cell_type": "code",
      "metadata": {
        "id": "mf2a5nWiUCLs"
      },
      "source": [
        "model.compile(optimizer='Adam',\n",
        "              loss='categorical_crossentropy',\n",
        "              metrics=['accuracy'])"
      ],
      "execution_count": 10,
      "outputs": []
    },
    {
      "cell_type": "code",
      "metadata": {
        "id": "wDvVvlCVUHJU"
      },
      "source": [
        "# Membuat kelas callback\n",
        "class myCallback(tf.keras.callbacks.Callback):\n",
        "    def on_epoch_end(self, epoch, logs={}):\n",
        "        if(logs.get('accuracy')>0.9):\n",
        "            print('\\nAkurasi telah mencapai >90%!')\n",
        "            self.model.stop_training = True\n",
        "callbacks = myCallback()"
      ],
      "execution_count": 11,
      "outputs": []
    },
    {
      "cell_type": "code",
      "metadata": {
        "colab": {
          "base_uri": "https://localhost:8080/"
        },
        "id": "LiEn5BSSUUJf",
        "outputId": "2fffeb7b-f289-4909-8f65-42d2ea9a092a"
      },
      "source": [
        "model.fit(X_train, Y_train, epochs=50, callbacks=[callbacks])"
      ],
      "execution_count": 12,
      "outputs": [
        {
          "output_type": "stream",
          "text": [
            "Epoch 1/50\n",
            "4/4 [==============================] - 14s 4ms/step - loss: 1.0997 - accuracy: 0.2917\n",
            "Epoch 2/50\n",
            "4/4 [==============================] - 0s 3ms/step - loss: 1.0548 - accuracy: 0.3077\n",
            "Epoch 3/50\n",
            "4/4 [==============================] - 0s 3ms/step - loss: 1.0194 - accuracy: 0.3642\n",
            "Epoch 4/50\n",
            "4/4 [==============================] - 0s 4ms/step - loss: 0.9878 - accuracy: 0.5844\n",
            "Epoch 5/50\n",
            "4/4 [==============================] - 0s 4ms/step - loss: 0.9542 - accuracy: 0.7114\n",
            "Epoch 6/50\n",
            "4/4 [==============================] - 0s 4ms/step - loss: 0.9321 - accuracy: 0.6593\n",
            "Epoch 7/50\n",
            "4/4 [==============================] - 0s 7ms/step - loss: 0.8989 - accuracy: 0.6552\n",
            "Epoch 8/50\n",
            "4/4 [==============================] - 0s 3ms/step - loss: 0.8552 - accuracy: 0.7114\n",
            "Epoch 9/50\n",
            "4/4 [==============================] - 0s 3ms/step - loss: 0.8242 - accuracy: 0.7062\n",
            "Epoch 10/50\n",
            "4/4 [==============================] - 0s 4ms/step - loss: 0.7901 - accuracy: 0.6771\n",
            "Epoch 11/50\n",
            "4/4 [==============================] - 0s 4ms/step - loss: 0.7394 - accuracy: 0.7146\n",
            "Epoch 12/50\n",
            "4/4 [==============================] - 0s 5ms/step - loss: 0.7037 - accuracy: 0.7021\n",
            "Epoch 13/50\n",
            "4/4 [==============================] - 0s 3ms/step - loss: 0.6798 - accuracy: 0.6809\n",
            "Epoch 14/50\n",
            "4/4 [==============================] - 0s 4ms/step - loss: 0.6495 - accuracy: 0.6767\n",
            "Epoch 15/50\n",
            "4/4 [==============================] - 0s 3ms/step - loss: 0.5956 - accuracy: 0.7420\n",
            "Epoch 16/50\n",
            "4/4 [==============================] - 0s 4ms/step - loss: 0.5714 - accuracy: 0.7215\n",
            "Epoch 17/50\n",
            "4/4 [==============================] - 0s 5ms/step - loss: 0.5594 - accuracy: 0.7024\n",
            "Epoch 18/50\n",
            "4/4 [==============================] - 0s 3ms/step - loss: 0.5225 - accuracy: 0.7368\n",
            "Epoch 19/50\n",
            "4/4 [==============================] - 0s 4ms/step - loss: 0.4976 - accuracy: 0.7326\n",
            "Epoch 20/50\n",
            "4/4 [==============================] - 0s 3ms/step - loss: 0.4784 - accuracy: 0.7482\n",
            "Epoch 21/50\n",
            "4/4 [==============================] - 0s 4ms/step - loss: 0.4764 - accuracy: 0.7260\n",
            "Epoch 22/50\n",
            "4/4 [==============================] - 0s 4ms/step - loss: 0.4489 - accuracy: 0.7357\n",
            "Epoch 23/50\n",
            "4/4 [==============================] - 0s 4ms/step - loss: 0.4344 - accuracy: 0.7361\n",
            "Epoch 24/50\n",
            "4/4 [==============================] - 0s 4ms/step - loss: 0.3976 - accuracy: 0.7458\n",
            "Epoch 25/50\n",
            "4/4 [==============================] - 0s 4ms/step - loss: 0.4487 - accuracy: 0.7627\n",
            "Epoch 26/50\n",
            "4/4 [==============================] - 0s 3ms/step - loss: 0.4192 - accuracy: 0.8359\n",
            "Epoch 27/50\n",
            "4/4 [==============================] - 0s 56ms/step - loss: 0.4005 - accuracy: 0.9084\n",
            "\n",
            "Akurasi telah mencapai >90%!\n"
          ],
          "name": "stdout"
        },
        {
          "output_type": "execute_result",
          "data": {
            "text/plain": [
              "<keras.callbacks.History at 0x7f8bffb92a50>"
            ]
          },
          "metadata": {
            "tags": []
          },
          "execution_count": 12
        }
      ]
    }
  ]
}
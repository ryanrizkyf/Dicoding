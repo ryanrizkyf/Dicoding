{
  "nbformat": 4,
  "nbformat_minor": 0,
  "metadata": {
    "colab": {
      "name": "Dicoding-Submission-1-PengembanganMachineLearning.ipynb",
      "provenance": [],
      "collapsed_sections": []
    },
    "kernelspec": {
      "name": "python3",
      "display_name": "Python 3"
    },
    "language_info": {
      "name": "python"
    },
    "accelerator": "GPU"
  },
  "cells": [
    {
      "cell_type": "markdown",
      "metadata": {
        "id": "OtH5SMGYlqQG"
      },
      "source": [
        "    Nama   : Ryan Rizky Fathinanto\n",
        "    Email  : ryanrizkyf@gmail.com\n",
        "    No. HP : 085692475682"
      ]
    },
    {
      "cell_type": "code",
      "metadata": {
        "id": "xsty2V4y822p"
      },
      "source": [
        "import pandas as pd\n",
        "\n",
        "df = pd.read_csv('/content/bbc-news-data.csv', sep='\\t')\n",
        "df = df.drop(columns=['filename', 'title'])"
      ],
      "execution_count": 1,
      "outputs": []
    },
    {
      "cell_type": "code",
      "metadata": {
        "colab": {
          "base_uri": "https://localhost:8080/",
          "height": 204
        },
        "id": "ZniwHAns9Ytr",
        "outputId": "1f3a3022-f985-4fff-8908-779d6d7aa58d"
      },
      "source": [
        "df.head()"
      ],
      "execution_count": 2,
      "outputs": [
        {
          "output_type": "execute_result",
          "data": {
            "text/html": [
              "<div>\n",
              "<style scoped>\n",
              "    .dataframe tbody tr th:only-of-type {\n",
              "        vertical-align: middle;\n",
              "    }\n",
              "\n",
              "    .dataframe tbody tr th {\n",
              "        vertical-align: top;\n",
              "    }\n",
              "\n",
              "    .dataframe thead th {\n",
              "        text-align: right;\n",
              "    }\n",
              "</style>\n",
              "<table border=\"1\" class=\"dataframe\">\n",
              "  <thead>\n",
              "    <tr style=\"text-align: right;\">\n",
              "      <th></th>\n",
              "      <th>category</th>\n",
              "      <th>content</th>\n",
              "    </tr>\n",
              "  </thead>\n",
              "  <tbody>\n",
              "    <tr>\n",
              "      <th>0</th>\n",
              "      <td>business</td>\n",
              "      <td>Quarterly profits at US media giant TimeWarne...</td>\n",
              "    </tr>\n",
              "    <tr>\n",
              "      <th>1</th>\n",
              "      <td>business</td>\n",
              "      <td>The dollar has hit its highest level against ...</td>\n",
              "    </tr>\n",
              "    <tr>\n",
              "      <th>2</th>\n",
              "      <td>business</td>\n",
              "      <td>The owners of embattled Russian oil giant Yuk...</td>\n",
              "    </tr>\n",
              "    <tr>\n",
              "      <th>3</th>\n",
              "      <td>business</td>\n",
              "      <td>British Airways has blamed high fuel prices f...</td>\n",
              "    </tr>\n",
              "    <tr>\n",
              "      <th>4</th>\n",
              "      <td>business</td>\n",
              "      <td>Shares in UK drinks and food firm Allied Dome...</td>\n",
              "    </tr>\n",
              "  </tbody>\n",
              "</table>\n",
              "</div>"
            ],
            "text/plain": [
              "   category                                            content\n",
              "0  business   Quarterly profits at US media giant TimeWarne...\n",
              "1  business   The dollar has hit its highest level against ...\n",
              "2  business   The owners of embattled Russian oil giant Yuk...\n",
              "3  business   British Airways has blamed high fuel prices f...\n",
              "4  business   Shares in UK drinks and food firm Allied Dome..."
            ]
          },
          "metadata": {
            "tags": []
          },
          "execution_count": 2
        }
      ]
    },
    {
      "cell_type": "code",
      "metadata": {
        "colab": {
          "base_uri": "https://localhost:8080/",
          "height": 419
        },
        "id": "aXmapOh9-gQC",
        "outputId": "26f5b2a9-94e7-47db-d2ea-b28f7230b675"
      },
      "source": [
        "category = pd.get_dummies(df.category)\n",
        "df_baru = pd.concat([df, category], axis=1)\n",
        "df_baru = df_baru.drop(columns='category')\n",
        "df_baru"
      ],
      "execution_count": 3,
      "outputs": [
        {
          "output_type": "execute_result",
          "data": {
            "text/html": [
              "<div>\n",
              "<style scoped>\n",
              "    .dataframe tbody tr th:only-of-type {\n",
              "        vertical-align: middle;\n",
              "    }\n",
              "\n",
              "    .dataframe tbody tr th {\n",
              "        vertical-align: top;\n",
              "    }\n",
              "\n",
              "    .dataframe thead th {\n",
              "        text-align: right;\n",
              "    }\n",
              "</style>\n",
              "<table border=\"1\" class=\"dataframe\">\n",
              "  <thead>\n",
              "    <tr style=\"text-align: right;\">\n",
              "      <th></th>\n",
              "      <th>content</th>\n",
              "      <th>business</th>\n",
              "      <th>entertainment</th>\n",
              "      <th>politics</th>\n",
              "      <th>sport</th>\n",
              "      <th>tech</th>\n",
              "    </tr>\n",
              "  </thead>\n",
              "  <tbody>\n",
              "    <tr>\n",
              "      <th>0</th>\n",
              "      <td>Quarterly profits at US media giant TimeWarne...</td>\n",
              "      <td>1</td>\n",
              "      <td>0</td>\n",
              "      <td>0</td>\n",
              "      <td>0</td>\n",
              "      <td>0</td>\n",
              "    </tr>\n",
              "    <tr>\n",
              "      <th>1</th>\n",
              "      <td>The dollar has hit its highest level against ...</td>\n",
              "      <td>1</td>\n",
              "      <td>0</td>\n",
              "      <td>0</td>\n",
              "      <td>0</td>\n",
              "      <td>0</td>\n",
              "    </tr>\n",
              "    <tr>\n",
              "      <th>2</th>\n",
              "      <td>The owners of embattled Russian oil giant Yuk...</td>\n",
              "      <td>1</td>\n",
              "      <td>0</td>\n",
              "      <td>0</td>\n",
              "      <td>0</td>\n",
              "      <td>0</td>\n",
              "    </tr>\n",
              "    <tr>\n",
              "      <th>3</th>\n",
              "      <td>British Airways has blamed high fuel prices f...</td>\n",
              "      <td>1</td>\n",
              "      <td>0</td>\n",
              "      <td>0</td>\n",
              "      <td>0</td>\n",
              "      <td>0</td>\n",
              "    </tr>\n",
              "    <tr>\n",
              "      <th>4</th>\n",
              "      <td>Shares in UK drinks and food firm Allied Dome...</td>\n",
              "      <td>1</td>\n",
              "      <td>0</td>\n",
              "      <td>0</td>\n",
              "      <td>0</td>\n",
              "      <td>0</td>\n",
              "    </tr>\n",
              "    <tr>\n",
              "      <th>...</th>\n",
              "      <td>...</td>\n",
              "      <td>...</td>\n",
              "      <td>...</td>\n",
              "      <td>...</td>\n",
              "      <td>...</td>\n",
              "      <td>...</td>\n",
              "    </tr>\n",
              "    <tr>\n",
              "      <th>2220</th>\n",
              "      <td>BT is introducing two initiatives to help bea...</td>\n",
              "      <td>0</td>\n",
              "      <td>0</td>\n",
              "      <td>0</td>\n",
              "      <td>0</td>\n",
              "      <td>1</td>\n",
              "    </tr>\n",
              "    <tr>\n",
              "      <th>2221</th>\n",
              "      <td>Computer users across the world continue to i...</td>\n",
              "      <td>0</td>\n",
              "      <td>0</td>\n",
              "      <td>0</td>\n",
              "      <td>0</td>\n",
              "      <td>1</td>\n",
              "    </tr>\n",
              "    <tr>\n",
              "      <th>2222</th>\n",
              "      <td>A new European directive could put software w...</td>\n",
              "      <td>0</td>\n",
              "      <td>0</td>\n",
              "      <td>0</td>\n",
              "      <td>0</td>\n",
              "      <td>1</td>\n",
              "    </tr>\n",
              "    <tr>\n",
              "      <th>2223</th>\n",
              "      <td>The man making sure US computer networks are ...</td>\n",
              "      <td>0</td>\n",
              "      <td>0</td>\n",
              "      <td>0</td>\n",
              "      <td>0</td>\n",
              "      <td>1</td>\n",
              "    </tr>\n",
              "    <tr>\n",
              "      <th>2224</th>\n",
              "      <td>Online role playing games are time-consuming,...</td>\n",
              "      <td>0</td>\n",
              "      <td>0</td>\n",
              "      <td>0</td>\n",
              "      <td>0</td>\n",
              "      <td>1</td>\n",
              "    </tr>\n",
              "  </tbody>\n",
              "</table>\n",
              "<p>2225 rows × 6 columns</p>\n",
              "</div>"
            ],
            "text/plain": [
              "                                                content  business  ...  sport  tech\n",
              "0      Quarterly profits at US media giant TimeWarne...         1  ...      0     0\n",
              "1      The dollar has hit its highest level against ...         1  ...      0     0\n",
              "2      The owners of embattled Russian oil giant Yuk...         1  ...      0     0\n",
              "3      British Airways has blamed high fuel prices f...         1  ...      0     0\n",
              "4      Shares in UK drinks and food firm Allied Dome...         1  ...      0     0\n",
              "...                                                 ...       ...  ...    ...   ...\n",
              "2220   BT is introducing two initiatives to help bea...         0  ...      0     1\n",
              "2221   Computer users across the world continue to i...         0  ...      0     1\n",
              "2222   A new European directive could put software w...         0  ...      0     1\n",
              "2223   The man making sure US computer networks are ...         0  ...      0     1\n",
              "2224   Online role playing games are time-consuming,...         0  ...      0     1\n",
              "\n",
              "[2225 rows x 6 columns]"
            ]
          },
          "metadata": {
            "tags": []
          },
          "execution_count": 3
        }
      ]
    },
    {
      "cell_type": "code",
      "metadata": {
        "id": "25Tknup0-18G"
      },
      "source": [
        "content = df_baru['content'].values\n",
        "label = df_baru[['business', 'entertainment', 'politics', 'sport', 'tech']].values"
      ],
      "execution_count": 4,
      "outputs": []
    },
    {
      "cell_type": "code",
      "metadata": {
        "id": "lp-bgyT-_Ncy"
      },
      "source": [
        "from sklearn.model_selection import train_test_split\n",
        "\n",
        "content_train, content_test, label_train, label_test = train_test_split(content, label, test_size=0.2)"
      ],
      "execution_count": 5,
      "outputs": []
    },
    {
      "cell_type": "code",
      "metadata": {
        "id": "ggTzaXjs_Z9i"
      },
      "source": [
        "from tensorflow.keras.preprocessing.text import Tokenizer\n",
        "from tensorflow.keras.preprocessing.sequence import pad_sequences\n",
        " \n",
        "tokenizer = Tokenizer(num_words=5000, oov_token='x')\n",
        "tokenizer.fit_on_texts(content_train) \n",
        "tokenizer.fit_on_texts(content_test)\n",
        " \n",
        "sequence_train = tokenizer.texts_to_sequences(content_train)\n",
        "sequence_test = tokenizer.texts_to_sequences(content_test)\n",
        " \n",
        "padded_train = pad_sequences(sequence_train) \n",
        "padded_test = pad_sequences(sequence_test)"
      ],
      "execution_count": 6,
      "outputs": []
    },
    {
      "cell_type": "code",
      "metadata": {
        "id": "xNHoDFWD_5Yj"
      },
      "source": [
        "import tensorflow as tf\n",
        "\n",
        "model = tf.keras.Sequential([\n",
        "    tf.keras.layers.Embedding(input_dim=5000, output_dim=16),\n",
        "    tf.keras.layers.Bidirectional(tf.keras.layers.LSTM(64)),\n",
        "    tf.keras.layers.Dense(128, activation='relu'),\n",
        "    tf.keras.layers.Dropout(0.5),\n",
        "    tf.keras.layers.Dense(5, activation='softmax')\n",
        "])\n",
        "model.compile(loss='categorical_crossentropy',\n",
        "              optimizer='adam',\n",
        "              metrics=['accuracy'])"
      ],
      "execution_count": 7,
      "outputs": []
    },
    {
      "cell_type": "code",
      "metadata": {
        "id": "YBE0SQsPBP9Q"
      },
      "source": [
        "class myCallback(tf.keras.callbacks.Callback):\n",
        "  def on_epoch_end(self, epoch, logs={}):\n",
        "    if(logs.get('val_accuracy')>0.9):\n",
        "      print(\"\\nVal Akurasi telah mencapai >90%!\")\n",
        "      self.model.stop_training = True\n",
        "callbacks = myCallback()"
      ],
      "execution_count": 8,
      "outputs": []
    },
    {
      "cell_type": "code",
      "metadata": {
        "id": "ouXeaGl7JGQT"
      },
      "source": [
        "from keras.callbacks import ModelCheckpoint\n",
        "\n",
        "checkpoint = ModelCheckpoint('model.h5',monitor='val_loss',verbose=0,save_best_only=True,mode='auto')"
      ],
      "execution_count": 9,
      "outputs": []
    },
    {
      "cell_type": "code",
      "metadata": {
        "colab": {
          "base_uri": "https://localhost:8080/"
        },
        "id": "sy_7XKu8_8lV",
        "outputId": "4087ae0f-4b54-4abf-dce4-dd93eb8cbd8d"
      },
      "source": [
        "num_epochs = 50\n",
        "hist = model.fit(padded_train, \n",
        "                    label_train, \n",
        "                    epochs=num_epochs, \n",
        "                    validation_data=(padded_test, label_test), \n",
        "                    verbose=2,\n",
        "                    callbacks=[callbacks, checkpoint],\n",
        "                    batch_size=128)"
      ],
      "execution_count": 10,
      "outputs": [
        {
          "output_type": "stream",
          "text": [
            "Epoch 1/50\n",
            "14/14 - 11s - loss: 1.6070 - accuracy: 0.2298 - val_loss: 1.6019 - val_accuracy: 0.2247\n",
            "Epoch 2/50\n",
            "14/14 - 7s - loss: 1.5977 - accuracy: 0.2388 - val_loss: 1.5948 - val_accuracy: 0.2247\n",
            "Epoch 3/50\n",
            "14/14 - 7s - loss: 1.6247 - accuracy: 0.2556 - val_loss: 1.5755 - val_accuracy: 0.3506\n",
            "Epoch 4/50\n",
            "14/14 - 7s - loss: 1.5479 - accuracy: 0.3213 - val_loss: 1.5309 - val_accuracy: 0.3618\n",
            "Epoch 5/50\n",
            "14/14 - 7s - loss: 1.3388 - accuracy: 0.3888 - val_loss: 1.5883 - val_accuracy: 0.3056\n",
            "Epoch 6/50\n",
            "14/14 - 7s - loss: 1.1953 - accuracy: 0.4500 - val_loss: 1.1114 - val_accuracy: 0.5551\n",
            "Epoch 7/50\n",
            "14/14 - 7s - loss: 1.0013 - accuracy: 0.4635 - val_loss: 1.1581 - val_accuracy: 0.5416\n",
            "Epoch 8/50\n",
            "14/14 - 7s - loss: 0.9380 - accuracy: 0.5506 - val_loss: 0.9706 - val_accuracy: 0.5708\n",
            "Epoch 9/50\n",
            "14/14 - 7s - loss: 0.7742 - accuracy: 0.6534 - val_loss: 0.9010 - val_accuracy: 0.6022\n",
            "Epoch 10/50\n",
            "14/14 - 7s - loss: 0.6404 - accuracy: 0.7236 - val_loss: 0.8296 - val_accuracy: 0.7079\n",
            "Epoch 11/50\n",
            "14/14 - 7s - loss: 0.5055 - accuracy: 0.8039 - val_loss: 0.5889 - val_accuracy: 0.8045\n",
            "Epoch 12/50\n",
            "14/14 - 7s - loss: 0.3358 - accuracy: 0.8697 - val_loss: 0.5063 - val_accuracy: 0.8247\n",
            "Epoch 13/50\n",
            "14/14 - 7s - loss: 0.2396 - accuracy: 0.9247 - val_loss: 0.4415 - val_accuracy: 0.8382\n",
            "Epoch 14/50\n",
            "14/14 - 7s - loss: 0.1526 - accuracy: 0.9607 - val_loss: 0.4564 - val_accuracy: 0.8472\n",
            "Epoch 15/50\n",
            "14/14 - 7s - loss: 0.0897 - accuracy: 0.9809 - val_loss: 0.3517 - val_accuracy: 0.8899\n",
            "Epoch 16/50\n",
            "14/14 - 7s - loss: 0.0677 - accuracy: 0.9848 - val_loss: 0.4183 - val_accuracy: 0.8584\n",
            "Epoch 17/50\n",
            "14/14 - 7s - loss: 0.0756 - accuracy: 0.9837 - val_loss: 0.4218 - val_accuracy: 0.8764\n",
            "Epoch 18/50\n",
            "14/14 - 7s - loss: 0.0365 - accuracy: 0.9933 - val_loss: 0.4666 - val_accuracy: 0.8764\n",
            "Epoch 19/50\n",
            "14/14 - 7s - loss: 0.0278 - accuracy: 0.9921 - val_loss: 0.6902 - val_accuracy: 0.8202\n",
            "Epoch 20/50\n",
            "14/14 - 7s - loss: 0.0579 - accuracy: 0.9888 - val_loss: 0.4636 - val_accuracy: 0.8742\n",
            "Epoch 21/50\n",
            "14/14 - 7s - loss: 0.0322 - accuracy: 0.9921 - val_loss: 0.4731 - val_accuracy: 0.8742\n",
            "Epoch 22/50\n",
            "14/14 - 7s - loss: 0.0209 - accuracy: 0.9983 - val_loss: 0.5170 - val_accuracy: 0.8719\n",
            "Epoch 23/50\n",
            "14/14 - 7s - loss: 0.0100 - accuracy: 0.9989 - val_loss: 0.4108 - val_accuracy: 0.9124\n",
            "\n",
            "Val Akurasi telah mencapai >90%!\n"
          ],
          "name": "stdout"
        }
      ]
    },
    {
      "cell_type": "code",
      "metadata": {
        "id": "JXRjUR1oVovi"
      },
      "source": [
        "import matplotlib.pyplot as plt"
      ],
      "execution_count": 11,
      "outputs": []
    },
    {
      "cell_type": "code",
      "metadata": {
        "colab": {
          "base_uri": "https://localhost:8080/",
          "height": 295
        },
        "id": "apwzRcGhVra0",
        "outputId": "9077001a-a2ce-4592-bacf-ca9b96359801"
      },
      "source": [
        "plt.plot(hist.history['loss'])\n",
        "plt.title('Model loss')\n",
        "plt.ylabel('Loss')\n",
        "plt.xlabel('Epoch')\n",
        "plt.legend(['Train'], loc='upper right')\n",
        "plt.show()"
      ],
      "execution_count": 12,
      "outputs": [
        {
          "output_type": "display_data",
          "data": {
            "image/png": "[encoded data removed]",
            "text/plain": [
              "<Figure size 432x288 with 1 Axes>"
            ]
          },
          "metadata": {
            "tags": [],
            "needs_background": "light"
          }
        }
      ]
    },
    {
      "cell_type": "code",
      "metadata": {
        "colab": {
          "base_uri": "https://localhost:8080/",
          "height": 295
        },
        "id": "ae05dEKIVtwD",
        "outputId": "3be56751-4ccc-4032-95c7-6c15219d2fcb"
      },
      "source": [
        "plt.plot(hist.history['accuracy'])\n",
        "plt.title('Model accuracy')\n",
        "plt.ylabel('Accuracy')\n",
        "plt.xlabel('Epoch')\n",
        "plt.legend(['Train'], loc='lower right')\n",
        "plt.show()"
      ],
      "execution_count": 13,
      "outputs": [
        {
          "output_type": "display_data",
          "data": {
            "image/png": "[encoded data removed]",
            "text/plain": [
              "<Figure size 432x288 with 1 Axes>"
            ]
          },
          "metadata": {
            "tags": [],
            "needs_background": "light"
          }
        }
      ]
    }
  ]
}
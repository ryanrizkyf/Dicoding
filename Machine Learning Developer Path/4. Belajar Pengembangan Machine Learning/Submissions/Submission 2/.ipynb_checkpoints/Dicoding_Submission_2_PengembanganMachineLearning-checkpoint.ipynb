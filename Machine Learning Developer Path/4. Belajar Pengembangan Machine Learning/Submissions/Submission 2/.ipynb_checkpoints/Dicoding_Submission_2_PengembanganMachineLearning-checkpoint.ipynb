{
  "nbformat": 4,
  "nbformat_minor": 0,
  "metadata": {
    "colab": {
      "name": "Dicoding-Submission-2-PengembanganMachineLearning.ipynb",
      "provenance": [],
      "collapsed_sections": []
    },
    "kernelspec": {
      "name": "python3",
      "display_name": "Python 3"
    },
    "language_info": {
      "name": "python"
    },
    "accelerator": "GPU"
  },
  "cells": [
    {
      "cell_type": "markdown",
      "metadata": {
        "id": "_aBBsctaYPcw"
      },
      "source": [
        "    Nama   : Ryan Rizky Fathinanto\n",
        "    Email  : ryanrizkyf@gmail.com\n",
        "    No. HP : 085692475682"
      ]
    },
    {
      "cell_type": "code",
      "metadata": {
        "id": "V5Gj0tb4X9Mo"
      },
      "source": [
        "import numpy as np\n",
        "import pandas as pd\n",
        "import tensorflow as tf\n",
        "import matplotlib.pyplot as plt\n",
        "import matplotlib.dates as mdates\n",
        "from keras.layers import Dense, LSTM"
      ],
      "execution_count": 1,
      "outputs": []
    },
    {
      "cell_type": "code",
      "metadata": {
        "colab": {
          "base_uri": "https://localhost:8080/",
          "height": 204
        },
        "id": "uM0NW1aKYpNy",
        "outputId": "a170d62f-608e-4b14-f11a-766451dd1bef"
      },
      "source": [
        "df = pd.read_csv('/content/GE.csv')\n",
        "df.head()"
      ],
      "execution_count": 2,
      "outputs": [
        {
          "output_type": "execute_result",
          "data": {
            "text/html": [
              "<div>\n",
              "<style scoped>\n",
              "    .dataframe tbody tr th:only-of-type {\n",
              "        vertical-align: middle;\n",
              "    }\n",
              "\n",
              "    .dataframe tbody tr th {\n",
              "        vertical-align: top;\n",
              "    }\n",
              "\n",
              "    .dataframe thead th {\n",
              "        text-align: right;\n",
              "    }\n",
              "</style>\n",
              "<table border=\"1\" class=\"dataframe\">\n",
              "  <thead>\n",
              "    <tr style=\"text-align: right;\">\n",
              "      <th></th>\n",
              "      <th>Date</th>\n",
              "      <th>Open</th>\n",
              "      <th>High</th>\n",
              "      <th>Low</th>\n",
              "      <th>Close</th>\n",
              "      <th>Adj Close</th>\n",
              "      <th>Volume</th>\n",
              "    </tr>\n",
              "  </thead>\n",
              "  <tbody>\n",
              "    <tr>\n",
              "      <th>0</th>\n",
              "      <td>1962-01-02</td>\n",
              "      <td>0.751202</td>\n",
              "      <td>0.763722</td>\n",
              "      <td>0.743690</td>\n",
              "      <td>0.748698</td>\n",
              "      <td>0.126780</td>\n",
              "      <td>2156544</td>\n",
              "    </tr>\n",
              "    <tr>\n",
              "      <th>1</th>\n",
              "      <td>1962-01-03</td>\n",
              "      <td>0.744942</td>\n",
              "      <td>0.744942</td>\n",
              "      <td>0.738682</td>\n",
              "      <td>0.741186</td>\n",
              "      <td>0.125508</td>\n",
              "      <td>1477632</td>\n",
              "    </tr>\n",
              "    <tr>\n",
              "      <th>2</th>\n",
              "      <td>1962-01-04</td>\n",
              "      <td>0.741186</td>\n",
              "      <td>0.747446</td>\n",
              "      <td>0.726162</td>\n",
              "      <td>0.732422</td>\n",
              "      <td>0.124024</td>\n",
              "      <td>1837056</td>\n",
              "    </tr>\n",
              "    <tr>\n",
              "      <th>3</th>\n",
              "      <td>1962-01-05</td>\n",
              "      <td>0.732422</td>\n",
              "      <td>0.733674</td>\n",
              "      <td>0.701122</td>\n",
              "      <td>0.713642</td>\n",
              "      <td>0.120844</td>\n",
              "      <td>2725632</td>\n",
              "    </tr>\n",
              "    <tr>\n",
              "      <th>4</th>\n",
              "      <td>1962-01-08</td>\n",
              "      <td>0.713642</td>\n",
              "      <td>0.713642</td>\n",
              "      <td>0.691106</td>\n",
              "      <td>0.712390</td>\n",
              "      <td>0.120632</td>\n",
              "      <td>3095040</td>\n",
              "    </tr>\n",
              "  </tbody>\n",
              "</table>\n",
              "</div>"
            ],
            "text/plain": [
              "         Date      Open      High       Low     Close  Adj Close   Volume\n",
              "0  1962-01-02  0.751202  0.763722  0.743690  0.748698   0.126780  2156544\n",
              "1  1962-01-03  0.744942  0.744942  0.738682  0.741186   0.125508  1477632\n",
              "2  1962-01-04  0.741186  0.747446  0.726162  0.732422   0.124024  1837056\n",
              "3  1962-01-05  0.732422  0.733674  0.701122  0.713642   0.120844  2725632\n",
              "4  1962-01-08  0.713642  0.713642  0.691106  0.712390   0.120632  3095040"
            ]
          },
          "metadata": {
            "tags": []
          },
          "execution_count": 2
        }
      ]
    },
    {
      "cell_type": "code",
      "metadata": {
        "colab": {
          "base_uri": "https://localhost:8080/"
        },
        "id": "IGnawvWwYu4c",
        "outputId": "2e8f4bb4-8f61-45e8-a7ba-ccbb5f59cdfa"
      },
      "source": [
        "df.isnull().sum()"
      ],
      "execution_count": 3,
      "outputs": [
        {
          "output_type": "execute_result",
          "data": {
            "text/plain": [
              "Date         0\n",
              "Open         0\n",
              "High         0\n",
              "Low          0\n",
              "Close        0\n",
              "Adj Close    0\n",
              "Volume       0\n",
              "dtype: int64"
            ]
          },
          "metadata": {
            "tags": []
          },
          "execution_count": 3
        }
      ]
    },
    {
      "cell_type": "code",
      "metadata": {
        "colab": {
          "base_uri": "https://localhost:8080/",
          "height": 419
        },
        "id": "mw65yL5yZNlo",
        "outputId": "841b7bd2-f42f-465d-cad4-60a144e700ba"
      },
      "source": [
        "df"
      ],
      "execution_count": 4,
      "outputs": [
        {
          "output_type": "execute_result",
          "data": {
            "text/html": [
              "<div>\n",
              "<style scoped>\n",
              "    .dataframe tbody tr th:only-of-type {\n",
              "        vertical-align: middle;\n",
              "    }\n",
              "\n",
              "    .dataframe tbody tr th {\n",
              "        vertical-align: top;\n",
              "    }\n",
              "\n",
              "    .dataframe thead th {\n",
              "        text-align: right;\n",
              "    }\n",
              "</style>\n",
              "<table border=\"1\" class=\"dataframe\">\n",
              "  <thead>\n",
              "    <tr style=\"text-align: right;\">\n",
              "      <th></th>\n",
              "      <th>Date</th>\n",
              "      <th>Open</th>\n",
              "      <th>High</th>\n",
              "      <th>Low</th>\n",
              "      <th>Close</th>\n",
              "      <th>Adj Close</th>\n",
              "      <th>Volume</th>\n",
              "    </tr>\n",
              "  </thead>\n",
              "  <tbody>\n",
              "    <tr>\n",
              "      <th>0</th>\n",
              "      <td>1962-01-02</td>\n",
              "      <td>0.751202</td>\n",
              "      <td>0.763722</td>\n",
              "      <td>0.743690</td>\n",
              "      <td>0.748698</td>\n",
              "      <td>0.126780</td>\n",
              "      <td>2156544</td>\n",
              "    </tr>\n",
              "    <tr>\n",
              "      <th>1</th>\n",
              "      <td>1962-01-03</td>\n",
              "      <td>0.744942</td>\n",
              "      <td>0.744942</td>\n",
              "      <td>0.738682</td>\n",
              "      <td>0.741186</td>\n",
              "      <td>0.125508</td>\n",
              "      <td>1477632</td>\n",
              "    </tr>\n",
              "    <tr>\n",
              "      <th>2</th>\n",
              "      <td>1962-01-04</td>\n",
              "      <td>0.741186</td>\n",
              "      <td>0.747446</td>\n",
              "      <td>0.726162</td>\n",
              "      <td>0.732422</td>\n",
              "      <td>0.124024</td>\n",
              "      <td>1837056</td>\n",
              "    </tr>\n",
              "    <tr>\n",
              "      <th>3</th>\n",
              "      <td>1962-01-05</td>\n",
              "      <td>0.732422</td>\n",
              "      <td>0.733674</td>\n",
              "      <td>0.701122</td>\n",
              "      <td>0.713642</td>\n",
              "      <td>0.120844</td>\n",
              "      <td>2725632</td>\n",
              "    </tr>\n",
              "    <tr>\n",
              "      <th>4</th>\n",
              "      <td>1962-01-08</td>\n",
              "      <td>0.713642</td>\n",
              "      <td>0.713642</td>\n",
              "      <td>0.691106</td>\n",
              "      <td>0.712390</td>\n",
              "      <td>0.120632</td>\n",
              "      <td>3095040</td>\n",
              "    </tr>\n",
              "    <tr>\n",
              "      <th>...</th>\n",
              "      <td>...</td>\n",
              "      <td>...</td>\n",
              "      <td>...</td>\n",
              "      <td>...</td>\n",
              "      <td>...</td>\n",
              "      <td>...</td>\n",
              "      <td>...</td>\n",
              "    </tr>\n",
              "    <tr>\n",
              "      <th>14967</th>\n",
              "      <td>2021-06-17</td>\n",
              "      <td>13.410000</td>\n",
              "      <td>13.510000</td>\n",
              "      <td>12.910000</td>\n",
              "      <td>13.000000</td>\n",
              "      <td>13.000000</td>\n",
              "      <td>77013400</td>\n",
              "    </tr>\n",
              "    <tr>\n",
              "      <th>14968</th>\n",
              "      <td>2021-06-18</td>\n",
              "      <td>12.840000</td>\n",
              "      <td>13.020000</td>\n",
              "      <td>12.750000</td>\n",
              "      <td>12.780000</td>\n",
              "      <td>12.780000</td>\n",
              "      <td>81989800</td>\n",
              "    </tr>\n",
              "    <tr>\n",
              "      <th>14969</th>\n",
              "      <td>2021-06-21</td>\n",
              "      <td>12.890000</td>\n",
              "      <td>13.190000</td>\n",
              "      <td>12.860000</td>\n",
              "      <td>13.190000</td>\n",
              "      <td>13.190000</td>\n",
              "      <td>53954100</td>\n",
              "    </tr>\n",
              "    <tr>\n",
              "      <th>14970</th>\n",
              "      <td>2021-06-22</td>\n",
              "      <td>13.120000</td>\n",
              "      <td>13.200000</td>\n",
              "      <td>12.940000</td>\n",
              "      <td>13.030000</td>\n",
              "      <td>13.030000</td>\n",
              "      <td>38268600</td>\n",
              "    </tr>\n",
              "    <tr>\n",
              "      <th>14971</th>\n",
              "      <td>2021-06-23</td>\n",
              "      <td>13.020000</td>\n",
              "      <td>13.190000</td>\n",
              "      <td>12.940000</td>\n",
              "      <td>12.950000</td>\n",
              "      <td>12.950000</td>\n",
              "      <td>43585200</td>\n",
              "    </tr>\n",
              "  </tbody>\n",
              "</table>\n",
              "<p>14972 rows × 7 columns</p>\n",
              "</div>"
            ],
            "text/plain": [
              "             Date       Open       High  ...      Close  Adj Close    Volume\n",
              "0      1962-01-02   0.751202   0.763722  ...   0.748698   0.126780   2156544\n",
              "1      1962-01-03   0.744942   0.744942  ...   0.741186   0.125508   1477632\n",
              "2      1962-01-04   0.741186   0.747446  ...   0.732422   0.124024   1837056\n",
              "3      1962-01-05   0.732422   0.733674  ...   0.713642   0.120844   2725632\n",
              "4      1962-01-08   0.713642   0.713642  ...   0.712390   0.120632   3095040\n",
              "...           ...        ...        ...  ...        ...        ...       ...\n",
              "14967  2021-06-17  13.410000  13.510000  ...  13.000000  13.000000  77013400\n",
              "14968  2021-06-18  12.840000  13.020000  ...  12.780000  12.780000  81989800\n",
              "14969  2021-06-21  12.890000  13.190000  ...  13.190000  13.190000  53954100\n",
              "14970  2021-06-22  13.120000  13.200000  ...  13.030000  13.030000  38268600\n",
              "14971  2021-06-23  13.020000  13.190000  ...  12.950000  12.950000  43585200\n",
              "\n",
              "[14972 rows x 7 columns]"
            ]
          },
          "metadata": {
            "tags": []
          },
          "execution_count": 4
        }
      ]
    },
    {
      "cell_type": "code",
      "metadata": {
        "colab": {
          "base_uri": "https://localhost:8080/",
          "height": 628
        },
        "id": "NWTY1TDKvnTl",
        "outputId": "39c1aee9-8624-4b2c-c46a-4a05654097ae"
      },
      "source": [
        "plt.clf()\n",
        "fig, ax = plt.subplots(figsize=(18, 8))\n",
        "plt.plot(df['Date'], df['Close'], color='slategray')\n",
        "fig.suptitle('General Electric (GE) Stock Price\\nJanuary 1962 - June 2021', \n",
        "             y=1.05, fontsize=20, fontweight='bold', ha='center')\n",
        "ax.set_xlabel('')\n",
        "ax.set_ylabel('Harga (USD)', fontsize=14)\n",
        "ax.text(1, -0.1, 'Sumber: Yahoo Finance', color='blue',\n",
        "        ha='right', transform=ax.transAxes, fontsize=14)\n",
        "\n",
        "ax.xaxis.set_major_locator(mdates.MonthLocator())\n",
        "ax.xaxis.set_major_formatter(mdates.DateFormatter('%b %Y'))\n",
        "\n",
        "plt.grid(axis='y')\n",
        "plt.ylim(ymin=0)\n",
        "labels, locations = plt.yticks()\n",
        "plt.yticks(labels, (labels).astype(int))\n",
        "plt.tight_layout()\n",
        "plt.show()"
      ],
      "execution_count": 5,
      "outputs": [
        {
          "output_type": "display_data",
          "data": {
            "text/plain": [
              "<Figure size 432x288 with 0 Axes>"
            ]
          },
          "metadata": {
            "tags": []
          }
        },
        {
          "output_type": "display_data",
          "data": {
            "image/png": "[encoded data removed]",
            "text/plain": [
              "<Figure size 1296x576 with 1 Axes>"
            ]
          },
          "metadata": {
            "tags": [],
            "needs_background": "light"
          }
        }
      ]
    },
    {
      "cell_type": "code",
      "metadata": {
        "colab": {
          "base_uri": "https://localhost:8080/"
        },
        "id": "kuli3OKm9UbS",
        "outputId": "88b240e8-7678-4928-b7f3-d663005f1e6f"
      },
      "source": [
        "from sklearn.model_selection import train_test_split\n",
        "\n",
        "X_train, X_test, y_train, y_test = train_test_split(df['Date'], df['Close'], test_size=0.2, shuffle=False)\n",
        "print(len(X_train), len(X_test), len(y_train), len(y_test))"
      ],
      "execution_count": 6,
      "outputs": [
        {
          "output_type": "stream",
          "text": [
            "11977 2995 11977 2995\n"
          ],
          "name": "stdout"
        }
      ]
    },
    {
      "cell_type": "code",
      "metadata": {
        "id": "s7_6DfVB0GRI"
      },
      "source": [
        "def windowed_dataset(series, window_size, batch_size, shuffle_buffer):\n",
        "    series = tf.expand_dims(series, axis=1)\n",
        "    ds = tf.data.Dataset.from_tensor_slices(series)\n",
        "    ds = ds.window(window_size + 1, shift=1, drop_remainder=True)\n",
        "    ds = ds.flat_map(lambda w: w.batch(window_size + 1))\n",
        "    ds = ds.shuffle(shuffle_buffer)\n",
        "    ds = ds.map(lambda w: (w[:-1], w[-1:]))\n",
        "    return ds.batch(batch_size).prefetch(1)"
      ],
      "execution_count": 7,
      "outputs": []
    },
    {
      "cell_type": "code",
      "metadata": {
        "id": "v6-yhPwA0IQi"
      },
      "source": [
        "data_train = windowed_dataset(y_train, window_size=60, batch_size=32, shuffle_buffer=1000)\n",
        "data_val = windowed_dataset(y_test, window_size=60, batch_size=32, shuffle_buffer=1000)\n",
        "\n",
        "model = tf.keras.models.Sequential([\n",
        "                                    tf.keras.layers.Bidirectional(tf.keras.layers.LSTM(64)),\n",
        "                                    tf.keras.layers.Dense(64, activation='relu'),\n",
        "                                    tf.keras.layers.Dense(1),\n",
        "])"
      ],
      "execution_count": 8,
      "outputs": []
    },
    {
      "cell_type": "code",
      "metadata": {
        "id": "SinSFzpB0eOi"
      },
      "source": [
        "class myCallback(tf.keras.callbacks.Callback):\n",
        "  def on_epoch_end(self, epoch, logs={}):\n",
        "    if(logs.get('mae')<0.1):\n",
        "      print(\"\\nMAE telah mencapai <10%!\")\n",
        "      self.model.stop_training = True\n",
        "callbacks = myCallback()"
      ],
      "execution_count": 9,
      "outputs": []
    },
    {
      "cell_type": "code",
      "metadata": {
        "colab": {
          "base_uri": "https://localhost:8080/"
        },
        "id": "LE_MMFke0LP3",
        "outputId": "87e17552-73ff-43cf-a350-9e674736f2f7"
      },
      "source": [
        "optimizer = tf.keras.optimizers.Adam(learning_rate=1.0000e-04)\n",
        "\n",
        "model.compile(loss=tf.keras.losses.MeanAbsoluteError(),\n",
        "              optimizer=optimizer,\n",
        "              metrics=['mae'])\n",
        "\n",
        "num_epochs=100\n",
        "hist = model.fit(data_train,\n",
        "                 epochs=num_epochs,\n",
        "                 validation_data=(data_val),\n",
        "                 callbacks=[callbacks],\n",
        "                 batch_size=128)"
      ],
      "execution_count": 10,
      "outputs": [
        {
          "output_type": "stream",
          "text": [
            "Epoch 1/100\n",
            "373/373 [==============================] - 18s 35ms/step - loss: 4.9938 - mae: 4.9938 - val_loss: 1.6212 - val_mae: 1.6212\n",
            "Epoch 2/100\n",
            "373/373 [==============================] - 12s 33ms/step - loss: 1.4017 - mae: 1.4017 - val_loss: 1.0342 - val_mae: 1.0342\n",
            "Epoch 3/100\n",
            "373/373 [==============================] - 12s 33ms/step - loss: 0.7229 - mae: 0.7229 - val_loss: 0.9154 - val_mae: 0.9154\n",
            "Epoch 4/100\n",
            "373/373 [==============================] - 12s 33ms/step - loss: 0.5099 - mae: 0.5099 - val_loss: 0.9004 - val_mae: 0.9004\n",
            "Epoch 5/100\n",
            "373/373 [==============================] - 12s 33ms/step - loss: 0.4104 - mae: 0.4104 - val_loss: 0.8344 - val_mae: 0.8344\n",
            "Epoch 6/100\n",
            "373/373 [==============================] - 12s 33ms/step - loss: 0.3577 - mae: 0.3577 - val_loss: 0.9724 - val_mae: 0.9724\n",
            "Epoch 7/100\n",
            "373/373 [==============================] - 12s 33ms/step - loss: 0.3263 - mae: 0.3263 - val_loss: 0.7008 - val_mae: 0.7008\n",
            "Epoch 8/100\n",
            "373/373 [==============================] - 12s 33ms/step - loss: 0.2936 - mae: 0.2936 - val_loss: 0.5864 - val_mae: 0.5864\n",
            "Epoch 9/100\n",
            "373/373 [==============================] - 12s 33ms/step - loss: 0.2683 - mae: 0.2683 - val_loss: 0.6756 - val_mae: 0.6756\n",
            "Epoch 10/100\n",
            "373/373 [==============================] - 12s 33ms/step - loss: 0.2583 - mae: 0.2583 - val_loss: 0.6857 - val_mae: 0.6857\n",
            "Epoch 11/100\n",
            "373/373 [==============================] - 12s 33ms/step - loss: 0.2713 - mae: 0.2713 - val_loss: 0.4834 - val_mae: 0.4834\n",
            "Epoch 12/100\n",
            "373/373 [==============================] - 12s 33ms/step - loss: 0.2487 - mae: 0.2487 - val_loss: 0.5242 - val_mae: 0.5242\n",
            "Epoch 13/100\n",
            "373/373 [==============================] - 12s 33ms/step - loss: 0.2410 - mae: 0.2410 - val_loss: 0.4756 - val_mae: 0.4756\n",
            "Epoch 14/100\n",
            "373/373 [==============================] - 12s 33ms/step - loss: 0.2222 - mae: 0.2222 - val_loss: 0.3983 - val_mae: 0.3983\n",
            "Epoch 15/100\n",
            "373/373 [==============================] - 12s 33ms/step - loss: 0.2165 - mae: 0.2165 - val_loss: 0.4508 - val_mae: 0.4508\n",
            "Epoch 16/100\n",
            "373/373 [==============================] - 12s 33ms/step - loss: 0.2067 - mae: 0.2067 - val_loss: 0.3483 - val_mae: 0.3483\n",
            "Epoch 17/100\n",
            "373/373 [==============================] - 12s 33ms/step - loss: 0.1923 - mae: 0.1923 - val_loss: 0.2971 - val_mae: 0.2971\n",
            "Epoch 18/100\n",
            "373/373 [==============================] - 12s 33ms/step - loss: 0.1927 - mae: 0.1927 - val_loss: 0.3177 - val_mae: 0.3177\n",
            "Epoch 19/100\n",
            "373/373 [==============================] - 12s 33ms/step - loss: 0.1858 - mae: 0.1858 - val_loss: 0.4702 - val_mae: 0.4702\n",
            "Epoch 20/100\n",
            "373/373 [==============================] - 12s 33ms/step - loss: 0.1874 - mae: 0.1874 - val_loss: 0.3364 - val_mae: 0.3364\n",
            "Epoch 21/100\n",
            "373/373 [==============================] - 12s 33ms/step - loss: 0.1785 - mae: 0.1785 - val_loss: 0.2834 - val_mae: 0.2834\n",
            "Epoch 22/100\n",
            "373/373 [==============================] - 12s 33ms/step - loss: 0.1790 - mae: 0.1790 - val_loss: 0.3011 - val_mae: 0.3011\n",
            "Epoch 23/100\n",
            "373/373 [==============================] - 12s 33ms/step - loss: 0.1723 - mae: 0.1723 - val_loss: 0.3422 - val_mae: 0.3422\n",
            "Epoch 24/100\n",
            "373/373 [==============================] - 12s 33ms/step - loss: 0.1773 - mae: 0.1773 - val_loss: 0.2700 - val_mae: 0.2700\n",
            "Epoch 25/100\n",
            "373/373 [==============================] - 12s 33ms/step - loss: 0.1751 - mae: 0.1751 - val_loss: 0.2666 - val_mae: 0.2666\n",
            "Epoch 26/100\n",
            "373/373 [==============================] - 12s 33ms/step - loss: 0.1698 - mae: 0.1698 - val_loss: 0.2911 - val_mae: 0.2911\n",
            "Epoch 27/100\n",
            "373/373 [==============================] - 12s 33ms/step - loss: 0.1669 - mae: 0.1669 - val_loss: 0.3314 - val_mae: 0.3314\n",
            "Epoch 28/100\n",
            "373/373 [==============================] - 12s 33ms/step - loss: 0.1684 - mae: 0.1684 - val_loss: 0.2849 - val_mae: 0.2849\n",
            "Epoch 29/100\n",
            "373/373 [==============================] - 12s 33ms/step - loss: 0.1624 - mae: 0.1624 - val_loss: 0.2586 - val_mae: 0.2586\n",
            "Epoch 30/100\n",
            "373/373 [==============================] - 12s 33ms/step - loss: 0.1655 - mae: 0.1655 - val_loss: 0.2696 - val_mae: 0.2696\n",
            "Epoch 31/100\n",
            "373/373 [==============================] - 12s 33ms/step - loss: 0.1638 - mae: 0.1638 - val_loss: 0.3106 - val_mae: 0.3106\n",
            "Epoch 32/100\n",
            "373/373 [==============================] - 12s 33ms/step - loss: 0.1614 - mae: 0.1614 - val_loss: 0.2703 - val_mae: 0.2703\n",
            "Epoch 33/100\n",
            "373/373 [==============================] - 12s 33ms/step - loss: 0.1607 - mae: 0.1607 - val_loss: 0.2560 - val_mae: 0.2560\n",
            "Epoch 34/100\n",
            "373/373 [==============================] - 12s 33ms/step - loss: 0.1690 - mae: 0.1690 - val_loss: 0.2526 - val_mae: 0.2526\n",
            "Epoch 35/100\n",
            "373/373 [==============================] - 12s 33ms/step - loss: 0.1603 - mae: 0.1603 - val_loss: 0.2984 - val_mae: 0.2984\n",
            "Epoch 36/100\n",
            "373/373 [==============================] - 12s 33ms/step - loss: 0.1558 - mae: 0.1558 - val_loss: 0.2640 - val_mae: 0.2640\n",
            "Epoch 37/100\n",
            "373/373 [==============================] - 12s 33ms/step - loss: 0.1589 - mae: 0.1589 - val_loss: 0.2430 - val_mae: 0.2430\n",
            "Epoch 38/100\n",
            "373/373 [==============================] - 12s 33ms/step - loss: 0.1571 - mae: 0.1571 - val_loss: 0.2343 - val_mae: 0.2343\n",
            "Epoch 39/100\n",
            "373/373 [==============================] - 12s 33ms/step - loss: 0.1621 - mae: 0.1621 - val_loss: 0.2805 - val_mae: 0.2805\n",
            "Epoch 40/100\n",
            "373/373 [==============================] - 12s 33ms/step - loss: 0.1613 - mae: 0.1613 - val_loss: 0.2521 - val_mae: 0.2521\n",
            "Epoch 41/100\n",
            "373/373 [==============================] - 12s 33ms/step - loss: 0.1598 - mae: 0.1598 - val_loss: 0.3016 - val_mae: 0.3016\n",
            "Epoch 42/100\n",
            "373/373 [==============================] - 12s 33ms/step - loss: 0.1536 - mae: 0.1536 - val_loss: 0.2336 - val_mae: 0.2336\n",
            "Epoch 43/100\n",
            "373/373 [==============================] - 12s 33ms/step - loss: 0.1571 - mae: 0.1571 - val_loss: 0.2530 - val_mae: 0.2530\n",
            "Epoch 44/100\n",
            "373/373 [==============================] - 12s 33ms/step - loss: 0.1553 - mae: 0.1553 - val_loss: 0.2477 - val_mae: 0.2477\n",
            "Epoch 45/100\n",
            "373/373 [==============================] - 12s 33ms/step - loss: 0.1610 - mae: 0.1610 - val_loss: 0.2442 - val_mae: 0.2442\n",
            "Epoch 46/100\n",
            "373/373 [==============================] - 12s 33ms/step - loss: 0.1564 - mae: 0.1564 - val_loss: 0.2412 - val_mae: 0.2412\n",
            "Epoch 47/100\n",
            "373/373 [==============================] - 12s 33ms/step - loss: 0.1497 - mae: 0.1497 - val_loss: 0.2261 - val_mae: 0.2261\n",
            "Epoch 48/100\n",
            "373/373 [==============================] - 12s 33ms/step - loss: 0.1560 - mae: 0.1560 - val_loss: 0.2498 - val_mae: 0.2498\n",
            "Epoch 49/100\n",
            "373/373 [==============================] - 12s 33ms/step - loss: 0.1516 - mae: 0.1516 - val_loss: 0.2497 - val_mae: 0.2497\n",
            "Epoch 50/100\n",
            "373/373 [==============================] - 12s 33ms/step - loss: 0.1509 - mae: 0.1509 - val_loss: 0.2445 - val_mae: 0.2445\n",
            "Epoch 51/100\n",
            "373/373 [==============================] - 12s 33ms/step - loss: 0.1501 - mae: 0.1501 - val_loss: 0.2355 - val_mae: 0.2355\n",
            "Epoch 52/100\n",
            "373/373 [==============================] - 13s 33ms/step - loss: 0.1542 - mae: 0.1542 - val_loss: 0.2454 - val_mae: 0.2454\n",
            "Epoch 53/100\n",
            "373/373 [==============================] - 12s 33ms/step - loss: 0.1507 - mae: 0.1507 - val_loss: 0.2233 - val_mae: 0.2233\n",
            "Epoch 54/100\n",
            "373/373 [==============================] - 13s 33ms/step - loss: 0.1499 - mae: 0.1499 - val_loss: 0.2802 - val_mae: 0.2802\n",
            "Epoch 55/100\n",
            "373/373 [==============================] - 12s 33ms/step - loss: 0.1529 - mae: 0.1529 - val_loss: 0.2419 - val_mae: 0.2419\n",
            "Epoch 56/100\n",
            "373/373 [==============================] - 12s 33ms/step - loss: 0.1492 - mae: 0.1492 - val_loss: 0.2343 - val_mae: 0.2343\n",
            "Epoch 57/100\n",
            "373/373 [==============================] - 12s 33ms/step - loss: 0.1513 - mae: 0.1513 - val_loss: 0.2215 - val_mae: 0.2215\n",
            "Epoch 58/100\n",
            "373/373 [==============================] - 12s 33ms/step - loss: 0.1523 - mae: 0.1523 - val_loss: 0.2313 - val_mae: 0.2313\n",
            "Epoch 59/100\n",
            "373/373 [==============================] - 12s 33ms/step - loss: 0.1477 - mae: 0.1477 - val_loss: 0.2325 - val_mae: 0.2325\n",
            "Epoch 60/100\n",
            "373/373 [==============================] - 12s 33ms/step - loss: 0.1471 - mae: 0.1471 - val_loss: 0.2923 - val_mae: 0.2923\n",
            "Epoch 61/100\n",
            "373/373 [==============================] - 12s 33ms/step - loss: 0.1517 - mae: 0.1517 - val_loss: 0.2496 - val_mae: 0.2496\n",
            "Epoch 62/100\n",
            "373/373 [==============================] - 13s 33ms/step - loss: 0.1487 - mae: 0.1487 - val_loss: 0.2365 - val_mae: 0.2365\n",
            "Epoch 63/100\n",
            "373/373 [==============================] - 12s 33ms/step - loss: 0.1517 - mae: 0.1517 - val_loss: 0.3219 - val_mae: 0.3219\n",
            "Epoch 64/100\n",
            "373/373 [==============================] - 13s 33ms/step - loss: 0.1470 - mae: 0.1470 - val_loss: 0.2433 - val_mae: 0.2433\n",
            "Epoch 65/100\n",
            "373/373 [==============================] - 12s 33ms/step - loss: 0.1487 - mae: 0.1487 - val_loss: 0.2274 - val_mae: 0.2274\n",
            "Epoch 66/100\n",
            "373/373 [==============================] - 12s 33ms/step - loss: 0.1495 - mae: 0.1495 - val_loss: 0.2485 - val_mae: 0.2485\n",
            "Epoch 67/100\n",
            "373/373 [==============================] - 12s 33ms/step - loss: 0.1524 - mae: 0.1524 - val_loss: 0.2263 - val_mae: 0.2263\n",
            "Epoch 68/100\n",
            "373/373 [==============================] - 13s 33ms/step - loss: 0.1521 - mae: 0.1521 - val_loss: 0.2226 - val_mae: 0.2226\n",
            "Epoch 69/100\n",
            "373/373 [==============================] - 12s 33ms/step - loss: 0.1495 - mae: 0.1495 - val_loss: 0.2254 - val_mae: 0.2254\n",
            "Epoch 70/100\n",
            "373/373 [==============================] - 13s 33ms/step - loss: 0.1451 - mae: 0.1451 - val_loss: 0.2235 - val_mae: 0.2235\n",
            "Epoch 71/100\n",
            "373/373 [==============================] - 12s 33ms/step - loss: 0.1496 - mae: 0.1496 - val_loss: 0.2290 - val_mae: 0.2290\n",
            "Epoch 72/100\n",
            "373/373 [==============================] - 12s 33ms/step - loss: 0.1463 - mae: 0.1463 - val_loss: 0.2231 - val_mae: 0.2231\n",
            "Epoch 73/100\n",
            "373/373 [==============================] - 12s 33ms/step - loss: 0.1462 - mae: 0.1462 - val_loss: 0.2184 - val_mae: 0.2184\n",
            "Epoch 74/100\n",
            "373/373 [==============================] - 12s 33ms/step - loss: 0.1507 - mae: 0.1507 - val_loss: 0.2409 - val_mae: 0.2409\n",
            "Epoch 75/100\n",
            "373/373 [==============================] - 12s 33ms/step - loss: 0.1465 - mae: 0.1465 - val_loss: 0.2265 - val_mae: 0.2265\n",
            "Epoch 76/100\n",
            "373/373 [==============================] - 12s 33ms/step - loss: 0.1459 - mae: 0.1459 - val_loss: 0.2184 - val_mae: 0.2184\n",
            "Epoch 77/100\n",
            "373/373 [==============================] - 12s 33ms/step - loss: 0.1466 - mae: 0.1466 - val_loss: 0.2305 - val_mae: 0.2305\n",
            "Epoch 78/100\n",
            "373/373 [==============================] - 12s 33ms/step - loss: 0.1477 - mae: 0.1477 - val_loss: 0.2432 - val_mae: 0.2432\n",
            "Epoch 79/100\n",
            "373/373 [==============================] - 12s 33ms/step - loss: 0.1459 - mae: 0.1459 - val_loss: 0.2170 - val_mae: 0.2170\n",
            "Epoch 80/100\n",
            "373/373 [==============================] - 12s 33ms/step - loss: 0.1482 - mae: 0.1482 - val_loss: 0.2167 - val_mae: 0.2167\n",
            "Epoch 81/100\n",
            "373/373 [==============================] - 13s 33ms/step - loss: 0.1443 - mae: 0.1443 - val_loss: 0.2177 - val_mae: 0.2177\n",
            "Epoch 82/100\n",
            "373/373 [==============================] - 13s 33ms/step - loss: 0.1455 - mae: 0.1455 - val_loss: 0.2243 - val_mae: 0.2243\n",
            "Epoch 83/100\n",
            "373/373 [==============================] - 13s 33ms/step - loss: 0.1474 - mae: 0.1474 - val_loss: 0.2394 - val_mae: 0.2394\n",
            "Epoch 84/100\n",
            "373/373 [==============================] - 13s 33ms/step - loss: 0.1459 - mae: 0.1459 - val_loss: 0.2672 - val_mae: 0.2672\n",
            "Epoch 85/100\n",
            "373/373 [==============================] - 12s 33ms/step - loss: 0.1471 - mae: 0.1471 - val_loss: 0.2274 - val_mae: 0.2274\n",
            "Epoch 86/100\n",
            "373/373 [==============================] - 12s 33ms/step - loss: 0.1495 - mae: 0.1495 - val_loss: 0.2253 - val_mae: 0.2253\n",
            "Epoch 87/100\n",
            "373/373 [==============================] - 13s 33ms/step - loss: 0.1477 - mae: 0.1477 - val_loss: 0.2234 - val_mae: 0.2234\n",
            "Epoch 88/100\n",
            "373/373 [==============================] - 13s 33ms/step - loss: 0.1431 - mae: 0.1431 - val_loss: 0.2766 - val_mae: 0.2766\n",
            "Epoch 89/100\n",
            "373/373 [==============================] - 12s 33ms/step - loss: 0.1444 - mae: 0.1444 - val_loss: 0.2521 - val_mae: 0.2521\n",
            "Epoch 90/100\n",
            "373/373 [==============================] - 12s 33ms/step - loss: 0.1467 - mae: 0.1467 - val_loss: 0.2129 - val_mae: 0.2129\n",
            "Epoch 91/100\n",
            "373/373 [==============================] - 12s 33ms/step - loss: 0.1453 - mae: 0.1453 - val_loss: 0.2418 - val_mae: 0.2418\n",
            "Epoch 92/100\n",
            "373/373 [==============================] - 12s 33ms/step - loss: 0.1463 - mae: 0.1463 - val_loss: 0.2388 - val_mae: 0.2388\n",
            "Epoch 93/100\n",
            "373/373 [==============================] - 12s 33ms/step - loss: 0.1479 - mae: 0.1479 - val_loss: 0.2801 - val_mae: 0.2801\n",
            "Epoch 94/100\n",
            "373/373 [==============================] - 13s 33ms/step - loss: 0.1546 - mae: 0.1546 - val_loss: 0.2228 - val_mae: 0.2228\n",
            "Epoch 95/100\n",
            "373/373 [==============================] - 13s 33ms/step - loss: 0.1461 - mae: 0.1461 - val_loss: 0.2805 - val_mae: 0.2805\n",
            "Epoch 96/100\n",
            "373/373 [==============================] - 13s 33ms/step - loss: 0.1487 - mae: 0.1487 - val_loss: 0.2237 - val_mae: 0.2237\n",
            "Epoch 97/100\n",
            "373/373 [==============================] - 12s 33ms/step - loss: 0.1443 - mae: 0.1443 - val_loss: 0.2360 - val_mae: 0.2360\n",
            "Epoch 98/100\n",
            "373/373 [==============================] - 12s 33ms/step - loss: 0.1438 - mae: 0.1438 - val_loss: 0.2154 - val_mae: 0.2154\n",
            "Epoch 99/100\n",
            "373/373 [==============================] - 13s 33ms/step - loss: 0.1486 - mae: 0.1486 - val_loss: 0.2415 - val_mae: 0.2415\n",
            "Epoch 100/100\n",
            "373/373 [==============================] - 12s 33ms/step - loss: 0.1469 - mae: 0.1469 - val_loss: 0.2279 - val_mae: 0.2279\n"
          ],
          "name": "stdout"
        }
      ]
    },
    {
      "cell_type": "code",
      "metadata": {
        "id": "l2MGABWH0WjX",
        "colab": {
          "base_uri": "https://localhost:8080/",
          "height": 295
        },
        "outputId": "564853a0-1a26-47c3-dc69-be3c42c1e223"
      },
      "source": [
        "plt.plot(hist.history['loss'])\n",
        "plt.title('Model Loss')\n",
        "plt.ylabel('Loss')\n",
        "plt.xlabel('Epoch')\n",
        "plt.legend(['Train'], loc='upper right')\n",
        "plt.show()"
      ],
      "execution_count": 11,
      "outputs": [
        {
          "output_type": "display_data",
          "data": {
            "image/png": "[encoded data removed]",
            "text/plain": [
              "<Figure size 432x288 with 1 Axes>"
            ]
          },
          "metadata": {
            "tags": [],
            "needs_background": "light"
          }
        }
      ]
    }
  ]
}